{
 "cells": [
  {
   "cell_type": "code",
   "execution_count": 2,
   "metadata": {},
   "outputs": [],
   "source": [
    "import pandas as pd\n",
    "import numpy as np\n",
    "import seaborn as sns\n",
    "import matplotlib.pyplot as plt\n",
    "import seaborn as sns"
   ]
  },
  {
   "cell_type": "code",
   "execution_count": 3,
   "metadata": {},
   "outputs": [],
   "source": [
    "columns = ['mpg', 'cylinders', 'disp', 'hp', 'weight', 'accel', 'modelyr', 'origin', 'carname']\n",
    "autompg = pd.read_csv('auto-mpg.csv', names = columns)\n",
    "autompg.dropna(inplace = True)\n",
    "autompg['hp'] = autompg['hp'].astype(np.float)"
   ]
  },
  {
   "cell_type": "code",
   "execution_count": 4,
   "metadata": {},
   "outputs": [
    {
     "data": {
      "text/html": [
       "<div>\n",
       "<style scoped>\n",
       "    .dataframe tbody tr th:only-of-type {\n",
       "        vertical-align: middle;\n",
       "    }\n",
       "\n",
       "    .dataframe tbody tr th {\n",
       "        vertical-align: top;\n",
       "    }\n",
       "\n",
       "    .dataframe thead th {\n",
       "        text-align: right;\n",
       "    }\n",
       "</style>\n",
       "<table border=\"1\" class=\"dataframe\">\n",
       "  <thead>\n",
       "    <tr style=\"text-align: right;\">\n",
       "      <th></th>\n",
       "      <th>mpg</th>\n",
       "      <th>cylinders</th>\n",
       "      <th>disp</th>\n",
       "      <th>hp</th>\n",
       "      <th>weight</th>\n",
       "      <th>accel</th>\n",
       "      <th>modelyr</th>\n",
       "      <th>origin</th>\n",
       "      <th>carname</th>\n",
       "    </tr>\n",
       "  </thead>\n",
       "  <tbody>\n",
       "    <tr>\n",
       "      <td>0</td>\n",
       "      <td>18.0</td>\n",
       "      <td>8</td>\n",
       "      <td>307.0</td>\n",
       "      <td>130.0</td>\n",
       "      <td>3504.0</td>\n",
       "      <td>12.0</td>\n",
       "      <td>70.0</td>\n",
       "      <td>1</td>\n",
       "      <td>chevrolet,chevelle malibu</td>\n",
       "    </tr>\n",
       "    <tr>\n",
       "      <td>1</td>\n",
       "      <td>15.0</td>\n",
       "      <td>8</td>\n",
       "      <td>350.0</td>\n",
       "      <td>165.0</td>\n",
       "      <td>3693.0</td>\n",
       "      <td>11.5</td>\n",
       "      <td>70.0</td>\n",
       "      <td>1</td>\n",
       "      <td>buick skylark 320</td>\n",
       "    </tr>\n",
       "    <tr>\n",
       "      <td>2</td>\n",
       "      <td>18.0</td>\n",
       "      <td>8</td>\n",
       "      <td>318.0</td>\n",
       "      <td>150.0</td>\n",
       "      <td>3436.0</td>\n",
       "      <td>11.0</td>\n",
       "      <td>70.0</td>\n",
       "      <td>1</td>\n",
       "      <td>plymouth satellite</td>\n",
       "    </tr>\n",
       "    <tr>\n",
       "      <td>3</td>\n",
       "      <td>16.0</td>\n",
       "      <td>8</td>\n",
       "      <td>304.0</td>\n",
       "      <td>150.0</td>\n",
       "      <td>3433.0</td>\n",
       "      <td>12.0</td>\n",
       "      <td>70.0</td>\n",
       "      <td>1</td>\n",
       "      <td>amc rebel sst</td>\n",
       "    </tr>\n",
       "    <tr>\n",
       "      <td>4</td>\n",
       "      <td>17.0</td>\n",
       "      <td>8</td>\n",
       "      <td>302.0</td>\n",
       "      <td>140.0</td>\n",
       "      <td>3449.0</td>\n",
       "      <td>10.5</td>\n",
       "      <td>70.0</td>\n",
       "      <td>1</td>\n",
       "      <td>ford torino</td>\n",
       "    </tr>\n",
       "    <tr>\n",
       "      <td>...</td>\n",
       "      <td>...</td>\n",
       "      <td>...</td>\n",
       "      <td>...</td>\n",
       "      <td>...</td>\n",
       "      <td>...</td>\n",
       "      <td>...</td>\n",
       "      <td>...</td>\n",
       "      <td>...</td>\n",
       "      <td>...</td>\n",
       "    </tr>\n",
       "    <tr>\n",
       "      <td>393</td>\n",
       "      <td>27.0</td>\n",
       "      <td>4</td>\n",
       "      <td>140.0</td>\n",
       "      <td>86.0</td>\n",
       "      <td>2790.0</td>\n",
       "      <td>15.6</td>\n",
       "      <td>82.0</td>\n",
       "      <td>1</td>\n",
       "      <td>ford mustang gl</td>\n",
       "    </tr>\n",
       "    <tr>\n",
       "      <td>394</td>\n",
       "      <td>44.0</td>\n",
       "      <td>4</td>\n",
       "      <td>97.0</td>\n",
       "      <td>52.0</td>\n",
       "      <td>2130.0</td>\n",
       "      <td>24.6</td>\n",
       "      <td>82.0</td>\n",
       "      <td>2</td>\n",
       "      <td>vw pickup</td>\n",
       "    </tr>\n",
       "    <tr>\n",
       "      <td>395</td>\n",
       "      <td>32.0</td>\n",
       "      <td>4</td>\n",
       "      <td>135.0</td>\n",
       "      <td>84.0</td>\n",
       "      <td>2295.0</td>\n",
       "      <td>11.6</td>\n",
       "      <td>82.0</td>\n",
       "      <td>1</td>\n",
       "      <td>dodge rampage</td>\n",
       "    </tr>\n",
       "    <tr>\n",
       "      <td>396</td>\n",
       "      <td>28.0</td>\n",
       "      <td>4</td>\n",
       "      <td>120.0</td>\n",
       "      <td>79.0</td>\n",
       "      <td>2625.0</td>\n",
       "      <td>18.6</td>\n",
       "      <td>82.0</td>\n",
       "      <td>1</td>\n",
       "      <td>ford ranger</td>\n",
       "    </tr>\n",
       "    <tr>\n",
       "      <td>397</td>\n",
       "      <td>31.0</td>\n",
       "      <td>4</td>\n",
       "      <td>119.0</td>\n",
       "      <td>82.0</td>\n",
       "      <td>2720.0</td>\n",
       "      <td>19.4</td>\n",
       "      <td>82.0</td>\n",
       "      <td>1</td>\n",
       "      <td>chevy s-10</td>\n",
       "    </tr>\n",
       "  </tbody>\n",
       "</table>\n",
       "<p>392 rows × 9 columns</p>\n",
       "</div>"
      ],
      "text/plain": [
       "      mpg  cylinders   disp     hp  weight  accel  modelyr  origin  \\\n",
       "0    18.0          8  307.0  130.0  3504.0   12.0     70.0       1   \n",
       "1    15.0          8  350.0  165.0  3693.0   11.5     70.0       1   \n",
       "2    18.0          8  318.0  150.0  3436.0   11.0     70.0       1   \n",
       "3    16.0          8  304.0  150.0  3433.0   12.0     70.0       1   \n",
       "4    17.0          8  302.0  140.0  3449.0   10.5     70.0       1   \n",
       "..    ...        ...    ...    ...     ...    ...      ...     ...   \n",
       "393  27.0          4  140.0   86.0  2790.0   15.6     82.0       1   \n",
       "394  44.0          4   97.0   52.0  2130.0   24.6     82.0       2   \n",
       "395  32.0          4  135.0   84.0  2295.0   11.6     82.0       1   \n",
       "396  28.0          4  120.0   79.0  2625.0   18.6     82.0       1   \n",
       "397  31.0          4  119.0   82.0  2720.0   19.4     82.0       1   \n",
       "\n",
       "                       carname  \n",
       "0    chevrolet,chevelle malibu  \n",
       "1            buick skylark 320  \n",
       "2           plymouth satellite  \n",
       "3                amc rebel sst  \n",
       "4                  ford torino  \n",
       "..                         ...  \n",
       "393            ford mustang gl  \n",
       "394                  vw pickup  \n",
       "395              dodge rampage  \n",
       "396                ford ranger  \n",
       "397                 chevy s-10  \n",
       "\n",
       "[392 rows x 9 columns]"
      ]
     },
     "execution_count": 4,
     "metadata": {},
     "output_type": "execute_result"
    }
   ],
   "source": [
    "autompg"
   ]
  },
  {
   "cell_type": "code",
   "execution_count": 5,
   "metadata": {},
   "outputs": [
    {
     "data": {
      "text/html": [
       "<div>\n",
       "<style scoped>\n",
       "    .dataframe tbody tr th:only-of-type {\n",
       "        vertical-align: middle;\n",
       "    }\n",
       "\n",
       "    .dataframe tbody tr th {\n",
       "        vertical-align: top;\n",
       "    }\n",
       "\n",
       "    .dataframe thead th {\n",
       "        text-align: right;\n",
       "    }\n",
       "</style>\n",
       "<table border=\"1\" class=\"dataframe\">\n",
       "  <thead>\n",
       "    <tr style=\"text-align: right;\">\n",
       "      <th></th>\n",
       "      <th>count</th>\n",
       "      <th>mean</th>\n",
       "      <th>std</th>\n",
       "      <th>min</th>\n",
       "      <th>25%</th>\n",
       "      <th>50%</th>\n",
       "      <th>75%</th>\n",
       "      <th>max</th>\n",
       "    </tr>\n",
       "  </thead>\n",
       "  <tbody>\n",
       "    <tr>\n",
       "      <td>mpg</td>\n",
       "      <td>392.0</td>\n",
       "      <td>23.445918</td>\n",
       "      <td>7.805007</td>\n",
       "      <td>9.0</td>\n",
       "      <td>17.000</td>\n",
       "      <td>22.75</td>\n",
       "      <td>29.000</td>\n",
       "      <td>46.6</td>\n",
       "    </tr>\n",
       "    <tr>\n",
       "      <td>cylinders</td>\n",
       "      <td>392.0</td>\n",
       "      <td>5.471939</td>\n",
       "      <td>1.705783</td>\n",
       "      <td>3.0</td>\n",
       "      <td>4.000</td>\n",
       "      <td>4.00</td>\n",
       "      <td>8.000</td>\n",
       "      <td>8.0</td>\n",
       "    </tr>\n",
       "    <tr>\n",
       "      <td>disp</td>\n",
       "      <td>392.0</td>\n",
       "      <td>194.411990</td>\n",
       "      <td>104.644004</td>\n",
       "      <td>68.0</td>\n",
       "      <td>105.000</td>\n",
       "      <td>151.00</td>\n",
       "      <td>275.750</td>\n",
       "      <td>455.0</td>\n",
       "    </tr>\n",
       "    <tr>\n",
       "      <td>hp</td>\n",
       "      <td>392.0</td>\n",
       "      <td>104.469388</td>\n",
       "      <td>38.491160</td>\n",
       "      <td>46.0</td>\n",
       "      <td>75.000</td>\n",
       "      <td>93.50</td>\n",
       "      <td>126.000</td>\n",
       "      <td>230.0</td>\n",
       "    </tr>\n",
       "    <tr>\n",
       "      <td>weight</td>\n",
       "      <td>392.0</td>\n",
       "      <td>2977.584184</td>\n",
       "      <td>849.402560</td>\n",
       "      <td>1613.0</td>\n",
       "      <td>2225.250</td>\n",
       "      <td>2803.50</td>\n",
       "      <td>3614.750</td>\n",
       "      <td>5140.0</td>\n",
       "    </tr>\n",
       "    <tr>\n",
       "      <td>accel</td>\n",
       "      <td>392.0</td>\n",
       "      <td>15.541327</td>\n",
       "      <td>2.758864</td>\n",
       "      <td>8.0</td>\n",
       "      <td>13.775</td>\n",
       "      <td>15.50</td>\n",
       "      <td>17.025</td>\n",
       "      <td>24.8</td>\n",
       "    </tr>\n",
       "    <tr>\n",
       "      <td>modelyr</td>\n",
       "      <td>392.0</td>\n",
       "      <td>75.979592</td>\n",
       "      <td>3.683737</td>\n",
       "      <td>70.0</td>\n",
       "      <td>73.000</td>\n",
       "      <td>76.00</td>\n",
       "      <td>79.000</td>\n",
       "      <td>82.0</td>\n",
       "    </tr>\n",
       "    <tr>\n",
       "      <td>origin</td>\n",
       "      <td>392.0</td>\n",
       "      <td>1.576531</td>\n",
       "      <td>0.805518</td>\n",
       "      <td>1.0</td>\n",
       "      <td>1.000</td>\n",
       "      <td>1.00</td>\n",
       "      <td>2.000</td>\n",
       "      <td>3.0</td>\n",
       "    </tr>\n",
       "  </tbody>\n",
       "</table>\n",
       "</div>"
      ],
      "text/plain": [
       "           count         mean         std     min       25%      50%  \\\n",
       "mpg        392.0    23.445918    7.805007     9.0    17.000    22.75   \n",
       "cylinders  392.0     5.471939    1.705783     3.0     4.000     4.00   \n",
       "disp       392.0   194.411990  104.644004    68.0   105.000   151.00   \n",
       "hp         392.0   104.469388   38.491160    46.0    75.000    93.50   \n",
       "weight     392.0  2977.584184  849.402560  1613.0  2225.250  2803.50   \n",
       "accel      392.0    15.541327    2.758864     8.0    13.775    15.50   \n",
       "modelyr    392.0    75.979592    3.683737    70.0    73.000    76.00   \n",
       "origin     392.0     1.576531    0.805518     1.0     1.000     1.00   \n",
       "\n",
       "                75%     max  \n",
       "mpg          29.000    46.6  \n",
       "cylinders     8.000     8.0  \n",
       "disp        275.750   455.0  \n",
       "hp          126.000   230.0  \n",
       "weight     3614.750  5140.0  \n",
       "accel        17.025    24.8  \n",
       "modelyr      79.000    82.0  \n",
       "origin        2.000     3.0  "
      ]
     },
     "execution_count": 5,
     "metadata": {},
     "output_type": "execute_result"
    }
   ],
   "source": [
    "autompg.describe().transpose()"
   ]
  },
  {
   "cell_type": "code",
   "execution_count": 6,
   "metadata": {},
   "outputs": [
    {
     "data": {
      "image/png": "[encoded data removed]",
      "text/plain": [
       "<Figure size 1152x864 with 9 Axes>"
      ]
     },
     "metadata": {
      "needs_background": "light"
     },
     "output_type": "display_data"
    }
   ],
   "source": [
    "plt.rcParams['figure.figsize'] = 16, 12\n",
    "autompg.hist(bins = 20)\n",
    "plt.show()"
   ]
  },
  {
   "cell_type": "code",
   "execution_count": 7,
   "metadata": {},
   "outputs": [
    {
     "data": {
      "image/png": "[encoded data removed]",
      "text/plain": [
       "<Figure size 864x576 with 2 Axes>"
      ]
     },
     "metadata": {
      "needs_background": "light"
     },
     "output_type": "display_data"
    }
   ],
   "source": [
    "plt.rcParams['figure.figsize'] = 12, 8\n",
    "sns.heatmap(autompg.corr(), square = True, annot = True);\n",
    "plt.axis('equal');\n",
    "\n",
    "# shows all features are at least mildly correlated\n",
    "# least correlated features are accel, modelyr, origin\n"
   ]
  },
  {
   "cell_type": "code",
   "execution_count": 8,
   "metadata": {},
   "outputs": [
    {
     "data": {
      "text/plain": [
       "mpg          1.000000\n",
       "cylinders   -0.777618\n",
       "disp        -0.805127\n",
       "hp          -0.778427\n",
       "weight      -0.832244\n",
       "accel        0.423329\n",
       "modelyr      0.580541\n",
       "origin       0.565209\n",
       "Name: mpg, dtype: float64"
      ]
     },
     "execution_count": 8,
     "metadata": {},
     "output_type": "execute_result"
    }
   ],
   "source": [
    "autompg.corr()['mpg']"
   ]
  },
  {
   "cell_type": "code",
   "execution_count": 9,
   "metadata": {},
   "outputs": [
    {
     "data": {
      "image/png": "[encoded data removed]",
      "text/plain": [
       "<Figure size 864x576 with 1 Axes>"
      ]
     },
     "metadata": {
      "needs_background": "light"
     },
     "output_type": "display_data"
    }
   ],
   "source": [
    "plt.scatter(autompg['mpg'], autompg['accel'])\n",
    "plt.ylabel('Accel')\n",
    "plt.xlabel('mpg')\n",
    "plt.show()\n",
    "\n",
    "# randomly arranged - seemingly no relationship"
   ]
  },
  {
   "cell_type": "code",
   "execution_count": null,
   "metadata": {},
   "outputs": [],
   "source": []
  },
  {
   "cell_type": "code",
   "execution_count": 10,
   "metadata": {},
   "outputs": [],
   "source": [
    "# Separate train test sets\n",
    "from sklearn.model_selection import StratifiedShuffleSplit\n",
    "\n",
    "test_size = 0.2\n",
    "num_datapoints = len(autompg)\n",
    "                     \n",
    "weight_cat = pd.cut(autompg[\"weight\"], bins=[0, 1500, 2000, 3500, np. inf], labels = [1, 2, 3, 4])\n",
    "split = StratifiedShuffleSplit(n_splits = 1, test_size = test_size, random_state = 42) \n",
    "for train_index, test_index in split.split(autompg, weight_cat): \n",
    "    strat_train_set = autompg.iloc[train_index] \n",
    "    strat_test_set = autompg.iloc[test_index]\n",
    "\n",
    "autompg_train = strat_train_set.copy()"
   ]
  },
  {
   "cell_type": "code",
   "execution_count": 11,
   "metadata": {
    "scrolled": true
   },
   "outputs": [
    {
     "ename": "NameError",
     "evalue": "name 'rmse' is not defined",
     "output_type": "error",
     "traceback": [
      "\u001b[1;31m---------------------------------------------------------------------------\u001b[0m",
      "\u001b[1;31mNameError\u001b[0m                                 Traceback (most recent call last)",
      "\u001b[1;32m<ipython-input-11-027db54b2ce6>\u001b[0m in \u001b[0;36m<module>\u001b[1;34m\u001b[0m\n\u001b[0;32m      3\u001b[0m \u001b[0my_test\u001b[0m \u001b[1;33m=\u001b[0m \u001b[0mstrat_test_set\u001b[0m\u001b[1;33m.\u001b[0m\u001b[0mpop\u001b[0m\u001b[1;33m(\u001b[0m\u001b[1;34m'mpg'\u001b[0m\u001b[1;33m)\u001b[0m\u001b[1;33m\u001b[0m\u001b[1;33m\u001b[0m\u001b[0m\n\u001b[0;32m      4\u001b[0m \u001b[1;33m\u001b[0m\u001b[0m\n\u001b[1;32m----> 5\u001b[1;33m \u001b[0mprint\u001b[0m\u001b[1;33m(\u001b[0m\u001b[0mrmse\u001b[0m\u001b[1;33m(\u001b[0m\u001b[0mbaseline_preds\u001b[0m\u001b[1;33m,\u001b[0m \u001b[0my_test\u001b[0m\u001b[1;33m)\u001b[0m\u001b[1;33m)\u001b[0m\u001b[1;33m\u001b[0m\u001b[1;33m\u001b[0m\u001b[0m\n\u001b[0m",
      "\u001b[1;31mNameError\u001b[0m: name 'rmse' is not defined"
     ]
    }
   ],
   "source": [
    "avg_mpg = np.mean(autompg_train['mpg'])\n",
    "baseline_preds = avg_mpg * np.ones(int(np.ceil(num_datapoints * test_size)))\n",
    "y_test = strat_test_set.pop('mpg')\n",
    "\n",
    "print(rmse(baseline_preds, y_test))"
   ]
  },
  {
   "cell_type": "code",
   "execution_count": null,
   "metadata": {},
   "outputs": [],
   "source": []
  },
  {
   "cell_type": "code",
   "execution_count": 13,
   "metadata": {},
   "outputs": [
    {
     "data": {
      "text/html": [
       "<div>\n",
       "<style scoped>\n",
       "    .dataframe tbody tr th:only-of-type {\n",
       "        vertical-align: middle;\n",
       "    }\n",
       "\n",
       "    .dataframe tbody tr th {\n",
       "        vertical-align: top;\n",
       "    }\n",
       "\n",
       "    .dataframe thead th {\n",
       "        text-align: right;\n",
       "    }\n",
       "</style>\n",
       "<table border=\"1\" class=\"dataframe\">\n",
       "  <thead>\n",
       "    <tr style=\"text-align: right;\">\n",
       "      <th></th>\n",
       "      <th>mpg</th>\n",
       "      <th>cylinders</th>\n",
       "      <th>disp</th>\n",
       "      <th>hp</th>\n",
       "      <th>weight</th>\n",
       "      <th>accel</th>\n",
       "      <th>modelyr</th>\n",
       "      <th>origin</th>\n",
       "      <th>carname</th>\n",
       "    </tr>\n",
       "  </thead>\n",
       "  <tbody>\n",
       "    <tr>\n",
       "      <td>298</td>\n",
       "      <td>23.0</td>\n",
       "      <td>8</td>\n",
       "      <td>350.0</td>\n",
       "      <td>125.0</td>\n",
       "      <td>3900.0</td>\n",
       "      <td>17.4</td>\n",
       "      <td>79.0</td>\n",
       "      <td>1</td>\n",
       "      <td>cadillac eldorado</td>\n",
       "    </tr>\n",
       "    <tr>\n",
       "      <td>226</td>\n",
       "      <td>20.5</td>\n",
       "      <td>6</td>\n",
       "      <td>231.0</td>\n",
       "      <td>105.0</td>\n",
       "      <td>3425.0</td>\n",
       "      <td>16.9</td>\n",
       "      <td>77.0</td>\n",
       "      <td>1</td>\n",
       "      <td>buick skylark</td>\n",
       "    </tr>\n",
       "    <tr>\n",
       "      <td>122</td>\n",
       "      <td>24.0</td>\n",
       "      <td>4</td>\n",
       "      <td>121.0</td>\n",
       "      <td>110.0</td>\n",
       "      <td>2660.0</td>\n",
       "      <td>14.0</td>\n",
       "      <td>73.0</td>\n",
       "      <td>2</td>\n",
       "      <td>saab 99le</td>\n",
       "    </tr>\n",
       "    <tr>\n",
       "      <td>364</td>\n",
       "      <td>26.6</td>\n",
       "      <td>8</td>\n",
       "      <td>350.0</td>\n",
       "      <td>105.0</td>\n",
       "      <td>3725.0</td>\n",
       "      <td>19.0</td>\n",
       "      <td>81.0</td>\n",
       "      <td>1</td>\n",
       "      <td>oldsmobile cutlass ls</td>\n",
       "    </tr>\n",
       "    <tr>\n",
       "      <td>308</td>\n",
       "      <td>33.5</td>\n",
       "      <td>4</td>\n",
       "      <td>151.0</td>\n",
       "      <td>90.0</td>\n",
       "      <td>2556.0</td>\n",
       "      <td>13.2</td>\n",
       "      <td>79.0</td>\n",
       "      <td>1</td>\n",
       "      <td>pontiac phoenix</td>\n",
       "    </tr>\n",
       "    <tr>\n",
       "      <td>...</td>\n",
       "      <td>...</td>\n",
       "      <td>...</td>\n",
       "      <td>...</td>\n",
       "      <td>...</td>\n",
       "      <td>...</td>\n",
       "      <td>...</td>\n",
       "      <td>...</td>\n",
       "      <td>...</td>\n",
       "      <td>...</td>\n",
       "    </tr>\n",
       "    <tr>\n",
       "      <td>277</td>\n",
       "      <td>16.2</td>\n",
       "      <td>6</td>\n",
       "      <td>163.0</td>\n",
       "      <td>133.0</td>\n",
       "      <td>3410.0</td>\n",
       "      <td>15.8</td>\n",
       "      <td>78.0</td>\n",
       "      <td>2</td>\n",
       "      <td>peugeot 604sl</td>\n",
       "    </tr>\n",
       "    <tr>\n",
       "      <td>128</td>\n",
       "      <td>15.0</td>\n",
       "      <td>6</td>\n",
       "      <td>250.0</td>\n",
       "      <td>100.0</td>\n",
       "      <td>3336.0</td>\n",
       "      <td>17.0</td>\n",
       "      <td>74.0</td>\n",
       "      <td>1</td>\n",
       "      <td>chevrolet nova</td>\n",
       "    </tr>\n",
       "    <tr>\n",
       "      <td>259</td>\n",
       "      <td>20.8</td>\n",
       "      <td>6</td>\n",
       "      <td>200.0</td>\n",
       "      <td>85.0</td>\n",
       "      <td>3070.0</td>\n",
       "      <td>16.7</td>\n",
       "      <td>78.0</td>\n",
       "      <td>1</td>\n",
       "      <td>mercury zephyr</td>\n",
       "    </tr>\n",
       "    <tr>\n",
       "      <td>225</td>\n",
       "      <td>17.5</td>\n",
       "      <td>6</td>\n",
       "      <td>250.0</td>\n",
       "      <td>110.0</td>\n",
       "      <td>3520.0</td>\n",
       "      <td>16.4</td>\n",
       "      <td>77.0</td>\n",
       "      <td>1</td>\n",
       "      <td>chevrolet concours</td>\n",
       "    </tr>\n",
       "    <tr>\n",
       "      <td>264</td>\n",
       "      <td>18.1</td>\n",
       "      <td>8</td>\n",
       "      <td>302.0</td>\n",
       "      <td>139.0</td>\n",
       "      <td>3205.0</td>\n",
       "      <td>11.2</td>\n",
       "      <td>78.0</td>\n",
       "      <td>1</td>\n",
       "      <td>ford futura</td>\n",
       "    </tr>\n",
       "  </tbody>\n",
       "</table>\n",
       "<p>313 rows × 9 columns</p>\n",
       "</div>"
      ],
      "text/plain": [
       "      mpg  cylinders   disp     hp  weight  accel  modelyr  origin  \\\n",
       "298  23.0          8  350.0  125.0  3900.0   17.4     79.0       1   \n",
       "226  20.5          6  231.0  105.0  3425.0   16.9     77.0       1   \n",
       "122  24.0          4  121.0  110.0  2660.0   14.0     73.0       2   \n",
       "364  26.6          8  350.0  105.0  3725.0   19.0     81.0       1   \n",
       "308  33.5          4  151.0   90.0  2556.0   13.2     79.0       1   \n",
       "..    ...        ...    ...    ...     ...    ...      ...     ...   \n",
       "277  16.2          6  163.0  133.0  3410.0   15.8     78.0       2   \n",
       "128  15.0          6  250.0  100.0  3336.0   17.0     74.0       1   \n",
       "259  20.8          6  200.0   85.0  3070.0   16.7     78.0       1   \n",
       "225  17.5          6  250.0  110.0  3520.0   16.4     77.0       1   \n",
       "264  18.1          8  302.0  139.0  3205.0   11.2     78.0       1   \n",
       "\n",
       "                   carname  \n",
       "298      cadillac eldorado  \n",
       "226          buick skylark  \n",
       "122              saab 99le  \n",
       "364  oldsmobile cutlass ls  \n",
       "308        pontiac phoenix  \n",
       "..                     ...  \n",
       "277          peugeot 604sl  \n",
       "128         chevrolet nova  \n",
       "259         mercury zephyr  \n",
       "225     chevrolet concours  \n",
       "264            ford futura  \n",
       "\n",
       "[313 rows x 9 columns]"
      ]
     },
     "execution_count": 13,
     "metadata": {},
     "output_type": "execute_result"
    }
   ],
   "source": [
    "autompg_train"
   ]
  },
  {
   "cell_type": "code",
   "execution_count": 14,
   "metadata": {
    "scrolled": true
   },
   "outputs": [
    {
     "data": {
      "text/plain": [
       "mpg          1.000000\n",
       "cylinders   -0.778516\n",
       "disp        -0.807674\n",
       "hp          -0.781327\n",
       "weight      -0.836770\n",
       "accel        0.433985\n",
       "modelyr      0.561238\n",
       "origin       0.553627\n",
       "Name: mpg, dtype: float64"
      ]
     },
     "execution_count": 14,
     "metadata": {},
     "output_type": "execute_result"
    }
   ],
   "source": [
    "autompg_train.corr()['mpg']"
   ]
  },
  {
   "cell_type": "code",
   "execution_count": 16,
   "metadata": {},
   "outputs": [
    {
     "data": {
      "image/png": "[encoded data removed]",
      "text/plain": [
       "<Figure size 864x576 with 1 Axes>"
      ]
     },
     "metadata": {
      "needs_background": "light"
     },
     "output_type": "display_data"
    }
   ],
   "source": [
    "plt.scatter(autompg_train['mpg'], autompg_train['accel'])\n",
    "plt.ylabel('Accel')\n",
    "plt.xlabel('mpg')\n",
    "plt.show()\n",
    "\n",
    "# accel still looks random"
   ]
  },
  {
   "cell_type": "code",
   "execution_count": 17,
   "metadata": {},
   "outputs": [
    {
     "data": {
      "image/png": "[encoded data removed]",
      "text/plain": [
       "<Figure size 864x576 with 25 Axes>"
      ]
     },
     "metadata": {
      "needs_background": "light"
     },
     "output_type": "display_data"
    }
   ],
   "source": [
    "from pandas.plotting import scatter_matrix\n",
    "corr_features = ['mpg', 'disp', 'weight', 'hp', 'cylinders']\n",
    "scatter_matrix(autompg_train[corr_features], figsize = (12, 8));\n",
    "\n",
    "# disp, weight, hp are tail heavy"
   ]
  },
  {
   "cell_type": "code",
   "execution_count": 18,
   "metadata": {
    "scrolled": true
   },
   "outputs": [
    {
     "data": {
      "text/html": [
       "<div>\n",
       "<style scoped>\n",
       "    .dataframe tbody tr th:only-of-type {\n",
       "        vertical-align: middle;\n",
       "    }\n",
       "\n",
       "    .dataframe tbody tr th {\n",
       "        vertical-align: top;\n",
       "    }\n",
       "\n",
       "    .dataframe thead th {\n",
       "        text-align: right;\n",
       "    }\n",
       "</style>\n",
       "<table border=\"1\" class=\"dataframe\">\n",
       "  <thead>\n",
       "    <tr style=\"text-align: right;\">\n",
       "      <th></th>\n",
       "      <th>mpg</th>\n",
       "      <th>cylinders</th>\n",
       "      <th>disp</th>\n",
       "      <th>hp</th>\n",
       "      <th>weight</th>\n",
       "      <th>accel</th>\n",
       "      <th>modelyr</th>\n",
       "      <th>origin</th>\n",
       "      <th>carname</th>\n",
       "    </tr>\n",
       "  </thead>\n",
       "  <tbody>\n",
       "    <tr>\n",
       "      <td>298</td>\n",
       "      <td>23.0</td>\n",
       "      <td>8</td>\n",
       "      <td>350.0</td>\n",
       "      <td>125.0</td>\n",
       "      <td>3900.0</td>\n",
       "      <td>17.4</td>\n",
       "      <td>79.0</td>\n",
       "      <td>1</td>\n",
       "      <td>cadillac eldorado</td>\n",
       "    </tr>\n",
       "    <tr>\n",
       "      <td>226</td>\n",
       "      <td>20.5</td>\n",
       "      <td>6</td>\n",
       "      <td>231.0</td>\n",
       "      <td>105.0</td>\n",
       "      <td>3425.0</td>\n",
       "      <td>16.9</td>\n",
       "      <td>77.0</td>\n",
       "      <td>1</td>\n",
       "      <td>buick skylark</td>\n",
       "    </tr>\n",
       "    <tr>\n",
       "      <td>122</td>\n",
       "      <td>24.0</td>\n",
       "      <td>4</td>\n",
       "      <td>121.0</td>\n",
       "      <td>110.0</td>\n",
       "      <td>2660.0</td>\n",
       "      <td>14.0</td>\n",
       "      <td>73.0</td>\n",
       "      <td>2</td>\n",
       "      <td>saab 99le</td>\n",
       "    </tr>\n",
       "    <tr>\n",
       "      <td>364</td>\n",
       "      <td>26.6</td>\n",
       "      <td>8</td>\n",
       "      <td>350.0</td>\n",
       "      <td>105.0</td>\n",
       "      <td>3725.0</td>\n",
       "      <td>19.0</td>\n",
       "      <td>81.0</td>\n",
       "      <td>1</td>\n",
       "      <td>oldsmobile cutlass ls</td>\n",
       "    </tr>\n",
       "    <tr>\n",
       "      <td>308</td>\n",
       "      <td>33.5</td>\n",
       "      <td>4</td>\n",
       "      <td>151.0</td>\n",
       "      <td>90.0</td>\n",
       "      <td>2556.0</td>\n",
       "      <td>13.2</td>\n",
       "      <td>79.0</td>\n",
       "      <td>1</td>\n",
       "      <td>pontiac phoenix</td>\n",
       "    </tr>\n",
       "  </tbody>\n",
       "</table>\n",
       "</div>"
      ],
      "text/plain": [
       "      mpg  cylinders   disp     hp  weight  accel  modelyr  origin  \\\n",
       "298  23.0          8  350.0  125.0  3900.0   17.4     79.0       1   \n",
       "226  20.5          6  231.0  105.0  3425.0   16.9     77.0       1   \n",
       "122  24.0          4  121.0  110.0  2660.0   14.0     73.0       2   \n",
       "364  26.6          8  350.0  105.0  3725.0   19.0     81.0       1   \n",
       "308  33.5          4  151.0   90.0  2556.0   13.2     79.0       1   \n",
       "\n",
       "                   carname  \n",
       "298      cadillac eldorado  \n",
       "226          buick skylark  \n",
       "122              saab 99le  \n",
       "364  oldsmobile cutlass ls  \n",
       "308        pontiac phoenix  "
      ]
     },
     "execution_count": 18,
     "metadata": {},
     "output_type": "execute_result"
    }
   ],
   "source": [
    "autompg_train.head()"
   ]
  },
  {
   "cell_type": "code",
   "execution_count": 19,
   "metadata": {},
   "outputs": [
    {
     "data": {
      "text/plain": [
       "Index(['mpg', 'cylinders', 'disp', 'hp', 'weight', 'accel', 'modelyr',\n",
       "       'origin', 'carname'],\n",
       "      dtype='object')"
      ]
     },
     "execution_count": 19,
     "metadata": {},
     "output_type": "execute_result"
    }
   ],
   "source": [
    "autompg.columns"
   ]
  },
  {
   "cell_type": "code",
   "execution_count": 20,
   "metadata": {},
   "outputs": [],
   "source": [
    "y = autompg_train.pop('mpg')"
   ]
  },
  {
   "cell_type": "code",
   "execution_count": 21,
   "metadata": {},
   "outputs": [],
   "source": [
    "from sklearn.base import BaseEstimator, TransformerMixin\n",
    "\n",
    "class ArrayTransformer(BaseEstimator, TransformerMixin):\n",
    "    def fit(self, X, y = None):\n",
    "        return self\n",
    "\n",
    "    def transform(self, X, y = None):\n",
    "        return X.toarray()\n",
    "    \n",
    "class ToSeries(BaseEstimator, TransformerMixin):\n",
    "    def fit(self, X, y = None):\n",
    "        return self\n",
    "    \n",
    "    def transform(self, X, y = None):\n",
    "        return X.squeeze()"
   ]
  },
  {
   "cell_type": "code",
   "execution_count": 22,
   "metadata": {},
   "outputs": [],
   "source": [
    "from sklearn.pipeline import Pipeline\n",
    "from sklearn.preprocessing import MinMaxScaler\n",
    "from sklearn.preprocessing import LabelEncoder, OneHotEncoder\n",
    "from sklearn.feature_extraction.text import TfidfVectorizer"
   ]
  },
  {
   "cell_type": "code",
   "execution_count": 23,
   "metadata": {},
   "outputs": [],
   "source": [
    "cat_attribs = ['origin']\n",
    "text_attribs = ['carname']\n",
    "num_attribs = ['cylinders', 'disp', 'hp', 'weight', 'accel', 'modelyr']"
   ]
  },
  {
   "cell_type": "code",
   "execution_count": 24,
   "metadata": {},
   "outputs": [],
   "source": [
    "def preprocess(dataset, max_features_tfv = None):\n",
    "    num_pipeline = Pipeline([\n",
    "        ('scaler', MinMaxScaler())\n",
    "    ])\n",
    "\n",
    "    cat_pipeline = Pipeline([\n",
    "        ('ohe', OneHotEncoder(categories = 'auto'))\n",
    "    ])\n",
    "    \n",
    "    cat_np = cat_pipeline.fit_transform(dataset[cat_attribs]).toarray()\n",
    "    columns = ['American', 'European', 'Japanese']\n",
    "    cat_df = pd.DataFrame(cat_np, columns = columns)\n",
    "\n",
    "    num_np = num_pipeline.fit_transform(dataset[num_attribs])\n",
    "    num_df = pd.DataFrame(num_np, columns = num_attribs)\n",
    "    \n",
    "    if max_features_tfv != None:\n",
    "        \n",
    "        text_pipeline = Pipeline([\n",
    "            ('toseries', ToSeries()),\n",
    "            ('tfv', TfidfVectorizer(max_features = max_features_tfv)),\n",
    "            ('toarray', ArrayTransformer())\n",
    "        ])\n",
    "        \n",
    "        text_np = text_pipeline.fit_transform(dataset[text_attribs])        \n",
    "        columns = []\n",
    "        idx_colname_dict = {value : key for key, value in text_pipeline['tfv'].vocabulary_.items()}\n",
    "        for i in range(max_features_tfv):\n",
    "            columns.append(idx_colname_dict[i])\n",
    "        text_df = pd.DataFrame(text_np, columns = columns) \n",
    "\n",
    "        autompg_full_df = pd.concat([num_df, cat_df, text_df], axis = 1, sort = False)\n",
    "    \n",
    "    else:\n",
    "        autompg_full_df = pd.concat([num_df, cat_df], axis = 1, sort = False)\n",
    "        \n",
    "    return autompg_full_df"
   ]
  },
  {
   "cell_type": "code",
   "execution_count": 36,
   "metadata": {},
   "outputs": [],
   "source": [
    "autompg_full_df = preprocess(autompg_train, 55)\n",
    "columns = autompg_full_df.columns"
   ]
  },
  {
   "cell_type": "code",
   "execution_count": 37,
   "metadata": {},
   "outputs": [
    {
     "data": {
      "text/html": [
       "<div>\n",
       "<style scoped>\n",
       "    .dataframe tbody tr th:only-of-type {\n",
       "        vertical-align: middle;\n",
       "    }\n",
       "\n",
       "    .dataframe tbody tr th {\n",
       "        vertical-align: top;\n",
       "    }\n",
       "\n",
       "    .dataframe thead th {\n",
       "        text-align: right;\n",
       "    }\n",
       "</style>\n",
       "<table border=\"1\" class=\"dataframe\">\n",
       "  <thead>\n",
       "    <tr style=\"text-align: right;\">\n",
       "      <th></th>\n",
       "      <th>cylinders</th>\n",
       "      <th>disp</th>\n",
       "      <th>hp</th>\n",
       "      <th>weight</th>\n",
       "      <th>accel</th>\n",
       "      <th>modelyr</th>\n",
       "      <th>American</th>\n",
       "      <th>European</th>\n",
       "      <th>Japanese</th>\n",
       "      <th>504</th>\n",
       "      <th>...</th>\n",
       "      <th>rabbit</th>\n",
       "      <th>saab</th>\n",
       "      <th>satellite</th>\n",
       "      <th>skylark</th>\n",
       "      <th>sw</th>\n",
       "      <th>torino</th>\n",
       "      <th>toyota</th>\n",
       "      <th>volkswagen</th>\n",
       "      <th>volvo</th>\n",
       "      <th>vw</th>\n",
       "    </tr>\n",
       "  </thead>\n",
       "  <tbody>\n",
       "    <tr>\n",
       "      <td>0</td>\n",
       "      <td>1.0</td>\n",
       "      <td>0.728682</td>\n",
       "      <td>0.429348</td>\n",
       "      <td>0.675827</td>\n",
       "      <td>0.559524</td>\n",
       "      <td>0.750000</td>\n",
       "      <td>1.0</td>\n",
       "      <td>0.0</td>\n",
       "      <td>0.0</td>\n",
       "      <td>0.0</td>\n",
       "      <td>...</td>\n",
       "      <td>0.0</td>\n",
       "      <td>0.0</td>\n",
       "      <td>0.0</td>\n",
       "      <td>0.000000</td>\n",
       "      <td>0.0</td>\n",
       "      <td>0.0</td>\n",
       "      <td>0.0</td>\n",
       "      <td>0.0</td>\n",
       "      <td>0.0</td>\n",
       "      <td>0.0</td>\n",
       "    </tr>\n",
       "    <tr>\n",
       "      <td>1</td>\n",
       "      <td>0.6</td>\n",
       "      <td>0.421189</td>\n",
       "      <td>0.320652</td>\n",
       "      <td>0.535461</td>\n",
       "      <td>0.529762</td>\n",
       "      <td>0.583333</td>\n",
       "      <td>1.0</td>\n",
       "      <td>0.0</td>\n",
       "      <td>0.0</td>\n",
       "      <td>0.0</td>\n",
       "      <td>...</td>\n",
       "      <td>0.0</td>\n",
       "      <td>0.0</td>\n",
       "      <td>0.0</td>\n",
       "      <td>0.775506</td>\n",
       "      <td>0.0</td>\n",
       "      <td>0.0</td>\n",
       "      <td>0.0</td>\n",
       "      <td>0.0</td>\n",
       "      <td>0.0</td>\n",
       "      <td>0.0</td>\n",
       "    </tr>\n",
       "    <tr>\n",
       "      <td>2</td>\n",
       "      <td>0.2</td>\n",
       "      <td>0.136951</td>\n",
       "      <td>0.347826</td>\n",
       "      <td>0.309397</td>\n",
       "      <td>0.357143</td>\n",
       "      <td>0.250000</td>\n",
       "      <td>0.0</td>\n",
       "      <td>1.0</td>\n",
       "      <td>0.0</td>\n",
       "      <td>0.0</td>\n",
       "      <td>...</td>\n",
       "      <td>0.0</td>\n",
       "      <td>1.0</td>\n",
       "      <td>0.0</td>\n",
       "      <td>0.000000</td>\n",
       "      <td>0.0</td>\n",
       "      <td>0.0</td>\n",
       "      <td>0.0</td>\n",
       "      <td>0.0</td>\n",
       "      <td>0.0</td>\n",
       "      <td>0.0</td>\n",
       "    </tr>\n",
       "    <tr>\n",
       "      <td>3</td>\n",
       "      <td>1.0</td>\n",
       "      <td>0.728682</td>\n",
       "      <td>0.320652</td>\n",
       "      <td>0.624113</td>\n",
       "      <td>0.654762</td>\n",
       "      <td>0.916667</td>\n",
       "      <td>1.0</td>\n",
       "      <td>0.0</td>\n",
       "      <td>0.0</td>\n",
       "      <td>0.0</td>\n",
       "      <td>...</td>\n",
       "      <td>0.0</td>\n",
       "      <td>0.0</td>\n",
       "      <td>0.0</td>\n",
       "      <td>0.000000</td>\n",
       "      <td>0.0</td>\n",
       "      <td>0.0</td>\n",
       "      <td>0.0</td>\n",
       "      <td>0.0</td>\n",
       "      <td>0.0</td>\n",
       "      <td>0.0</td>\n",
       "    </tr>\n",
       "    <tr>\n",
       "      <td>4</td>\n",
       "      <td>0.2</td>\n",
       "      <td>0.214470</td>\n",
       "      <td>0.239130</td>\n",
       "      <td>0.278664</td>\n",
       "      <td>0.309524</td>\n",
       "      <td>0.750000</td>\n",
       "      <td>1.0</td>\n",
       "      <td>0.0</td>\n",
       "      <td>0.0</td>\n",
       "      <td>0.0</td>\n",
       "      <td>...</td>\n",
       "      <td>0.0</td>\n",
       "      <td>0.0</td>\n",
       "      <td>0.0</td>\n",
       "      <td>0.000000</td>\n",
       "      <td>0.0</td>\n",
       "      <td>0.0</td>\n",
       "      <td>0.0</td>\n",
       "      <td>0.0</td>\n",
       "      <td>0.0</td>\n",
       "      <td>0.0</td>\n",
       "    </tr>\n",
       "    <tr>\n",
       "      <td>...</td>\n",
       "      <td>...</td>\n",
       "      <td>...</td>\n",
       "      <td>...</td>\n",
       "      <td>...</td>\n",
       "      <td>...</td>\n",
       "      <td>...</td>\n",
       "      <td>...</td>\n",
       "      <td>...</td>\n",
       "      <td>...</td>\n",
       "      <td>...</td>\n",
       "      <td>...</td>\n",
       "      <td>...</td>\n",
       "      <td>...</td>\n",
       "      <td>...</td>\n",
       "      <td>...</td>\n",
       "      <td>...</td>\n",
       "      <td>...</td>\n",
       "      <td>...</td>\n",
       "      <td>...</td>\n",
       "      <td>...</td>\n",
       "      <td>...</td>\n",
       "    </tr>\n",
       "    <tr>\n",
       "      <td>308</td>\n",
       "      <td>0.6</td>\n",
       "      <td>0.245478</td>\n",
       "      <td>0.472826</td>\n",
       "      <td>0.531028</td>\n",
       "      <td>0.464286</td>\n",
       "      <td>0.666667</td>\n",
       "      <td>0.0</td>\n",
       "      <td>1.0</td>\n",
       "      <td>0.0</td>\n",
       "      <td>0.0</td>\n",
       "      <td>...</td>\n",
       "      <td>0.0</td>\n",
       "      <td>0.0</td>\n",
       "      <td>0.0</td>\n",
       "      <td>0.000000</td>\n",
       "      <td>0.0</td>\n",
       "      <td>0.0</td>\n",
       "      <td>0.0</td>\n",
       "      <td>0.0</td>\n",
       "      <td>0.0</td>\n",
       "      <td>0.0</td>\n",
       "    </tr>\n",
       "    <tr>\n",
       "      <td>309</td>\n",
       "      <td>0.6</td>\n",
       "      <td>0.470284</td>\n",
       "      <td>0.293478</td>\n",
       "      <td>0.509161</td>\n",
       "      <td>0.535714</td>\n",
       "      <td>0.333333</td>\n",
       "      <td>1.0</td>\n",
       "      <td>0.0</td>\n",
       "      <td>0.0</td>\n",
       "      <td>0.0</td>\n",
       "      <td>...</td>\n",
       "      <td>0.0</td>\n",
       "      <td>0.0</td>\n",
       "      <td>0.0</td>\n",
       "      <td>0.000000</td>\n",
       "      <td>0.0</td>\n",
       "      <td>0.0</td>\n",
       "      <td>0.0</td>\n",
       "      <td>0.0</td>\n",
       "      <td>0.0</td>\n",
       "      <td>0.0</td>\n",
       "    </tr>\n",
       "    <tr>\n",
       "      <td>310</td>\n",
       "      <td>0.6</td>\n",
       "      <td>0.341085</td>\n",
       "      <td>0.211957</td>\n",
       "      <td>0.430556</td>\n",
       "      <td>0.517857</td>\n",
       "      <td>0.666667</td>\n",
       "      <td>1.0</td>\n",
       "      <td>0.0</td>\n",
       "      <td>0.0</td>\n",
       "      <td>0.0</td>\n",
       "      <td>...</td>\n",
       "      <td>0.0</td>\n",
       "      <td>0.0</td>\n",
       "      <td>0.0</td>\n",
       "      <td>0.000000</td>\n",
       "      <td>0.0</td>\n",
       "      <td>0.0</td>\n",
       "      <td>0.0</td>\n",
       "      <td>0.0</td>\n",
       "      <td>0.0</td>\n",
       "      <td>0.0</td>\n",
       "    </tr>\n",
       "    <tr>\n",
       "      <td>311</td>\n",
       "      <td>0.6</td>\n",
       "      <td>0.470284</td>\n",
       "      <td>0.347826</td>\n",
       "      <td>0.563534</td>\n",
       "      <td>0.500000</td>\n",
       "      <td>0.583333</td>\n",
       "      <td>1.0</td>\n",
       "      <td>0.0</td>\n",
       "      <td>0.0</td>\n",
       "      <td>0.0</td>\n",
       "      <td>...</td>\n",
       "      <td>0.0</td>\n",
       "      <td>0.0</td>\n",
       "      <td>0.0</td>\n",
       "      <td>0.000000</td>\n",
       "      <td>0.0</td>\n",
       "      <td>0.0</td>\n",
       "      <td>0.0</td>\n",
       "      <td>0.0</td>\n",
       "      <td>0.0</td>\n",
       "      <td>0.0</td>\n",
       "    </tr>\n",
       "    <tr>\n",
       "      <td>312</td>\n",
       "      <td>1.0</td>\n",
       "      <td>0.604651</td>\n",
       "      <td>0.505435</td>\n",
       "      <td>0.470449</td>\n",
       "      <td>0.190476</td>\n",
       "      <td>0.666667</td>\n",
       "      <td>1.0</td>\n",
       "      <td>0.0</td>\n",
       "      <td>0.0</td>\n",
       "      <td>0.0</td>\n",
       "      <td>...</td>\n",
       "      <td>0.0</td>\n",
       "      <td>0.0</td>\n",
       "      <td>0.0</td>\n",
       "      <td>0.000000</td>\n",
       "      <td>0.0</td>\n",
       "      <td>0.0</td>\n",
       "      <td>0.0</td>\n",
       "      <td>0.0</td>\n",
       "      <td>0.0</td>\n",
       "      <td>0.0</td>\n",
       "    </tr>\n",
       "  </tbody>\n",
       "</table>\n",
       "<p>313 rows × 64 columns</p>\n",
       "</div>"
      ],
      "text/plain": [
       "     cylinders      disp        hp    weight     accel   modelyr  American  \\\n",
       "0          1.0  0.728682  0.429348  0.675827  0.559524  0.750000       1.0   \n",
       "1          0.6  0.421189  0.320652  0.535461  0.529762  0.583333       1.0   \n",
       "2          0.2  0.136951  0.347826  0.309397  0.357143  0.250000       0.0   \n",
       "3          1.0  0.728682  0.320652  0.624113  0.654762  0.916667       1.0   \n",
       "4          0.2  0.214470  0.239130  0.278664  0.309524  0.750000       1.0   \n",
       "..         ...       ...       ...       ...       ...       ...       ...   \n",
       "308        0.6  0.245478  0.472826  0.531028  0.464286  0.666667       0.0   \n",
       "309        0.6  0.470284  0.293478  0.509161  0.535714  0.333333       1.0   \n",
       "310        0.6  0.341085  0.211957  0.430556  0.517857  0.666667       1.0   \n",
       "311        0.6  0.470284  0.347826  0.563534  0.500000  0.583333       1.0   \n",
       "312        1.0  0.604651  0.505435  0.470449  0.190476  0.666667       1.0   \n",
       "\n",
       "     European  Japanese  504  ...  rabbit  saab  satellite   skylark   sw  \\\n",
       "0         0.0       0.0  0.0  ...     0.0   0.0        0.0  0.000000  0.0   \n",
       "1         0.0       0.0  0.0  ...     0.0   0.0        0.0  0.775506  0.0   \n",
       "2         1.0       0.0  0.0  ...     0.0   1.0        0.0  0.000000  0.0   \n",
       "3         0.0       0.0  0.0  ...     0.0   0.0        0.0  0.000000  0.0   \n",
       "4         0.0       0.0  0.0  ...     0.0   0.0        0.0  0.000000  0.0   \n",
       "..        ...       ...  ...  ...     ...   ...        ...       ...  ...   \n",
       "308       1.0       0.0  0.0  ...     0.0   0.0        0.0  0.000000  0.0   \n",
       "309       0.0       0.0  0.0  ...     0.0   0.0        0.0  0.000000  0.0   \n",
       "310       0.0       0.0  0.0  ...     0.0   0.0        0.0  0.000000  0.0   \n",
       "311       0.0       0.0  0.0  ...     0.0   0.0        0.0  0.000000  0.0   \n",
       "312       0.0       0.0  0.0  ...     0.0   0.0        0.0  0.000000  0.0   \n",
       "\n",
       "     torino  toyota  volkswagen  volvo   vw  \n",
       "0       0.0     0.0         0.0    0.0  0.0  \n",
       "1       0.0     0.0         0.0    0.0  0.0  \n",
       "2       0.0     0.0         0.0    0.0  0.0  \n",
       "3       0.0     0.0         0.0    0.0  0.0  \n",
       "4       0.0     0.0         0.0    0.0  0.0  \n",
       "..      ...     ...         ...    ...  ...  \n",
       "308     0.0     0.0         0.0    0.0  0.0  \n",
       "309     0.0     0.0         0.0    0.0  0.0  \n",
       "310     0.0     0.0         0.0    0.0  0.0  \n",
       "311     0.0     0.0         0.0    0.0  0.0  \n",
       "312     0.0     0.0         0.0    0.0  0.0  \n",
       "\n",
       "[313 rows x 64 columns]"
      ]
     },
     "execution_count": 37,
     "metadata": {},
     "output_type": "execute_result"
    }
   ],
   "source": [
    "autompg_full_df"
   ]
  },
  {
   "cell_type": "markdown",
   "metadata": {},
   "source": [
    "### Shortlisting models"
   ]
  },
  {
   "cell_type": "code",
   "execution_count": 38,
   "metadata": {},
   "outputs": [],
   "source": [
    "from sklearn. model_selection import cross_val_score, cross_val_predict\n",
    "\n",
    "from sklearn.svm import SVR\n",
    "from xgboost import XGBRegressor\n",
    "from sklearn.linear_model import Ridge, Lasso\n",
    "from sklearn.neighbors import KNeighborsRegressor\n",
    "from sklearn.ensemble import RandomForestRegressor, ExtraTreesRegressor"
   ]
  },
  {
   "cell_type": "code",
   "execution_count": 39,
   "metadata": {},
   "outputs": [],
   "source": [
    "predictions_df = pd.DataFrame()"
   ]
  },
  {
   "cell_type": "code",
   "execution_count": 40,
   "metadata": {},
   "outputs": [
    {
     "name": "stdout",
     "output_type": "stream",
     "text": [
      "2.509193500535862\n"
     ]
    }
   ],
   "source": [
    "# Random Forests\n",
    "et_reg = RandomForestRegressor(n_estimators = 10, random_state = 7)\n",
    "scores = cross_val_score(et_reg, autompg_full_df, y, scoring = \"neg_root_mean_squared_error\", cv = 5)\n",
    "et_preds = cross_val_predict(et_reg, autompg_full_df, y, cv = 5)\n",
    "\n",
    "predictions_df['et'] = et_preds\n",
    "et_mean_rmse = np.mean(-scores)\n",
    "print(et_mean_rmse) #shortlisted"
   ]
  },
  {
   "cell_type": "code",
   "execution_count": 41,
   "metadata": {},
   "outputs": [
    {
     "name": "stdout",
     "output_type": "stream",
     "text": [
      "2.5387950710020566\n"
     ]
    }
   ],
   "source": [
    "# ExtraTreesRegressor\n",
    "et_reg = ExtraTreesRegressor(n_estimators = 10, random_state = 7)\n",
    "scores = cross_val_score(et_reg, autompg_full_df, y, scoring = \"neg_mean_squared_error\", cv = 5)\n",
    "et_preds = cross_val_predict(et_reg, autompg_full_df, y, cv = 5)\n",
    "\n",
    "predictions_df['ET'] = et_preds\n",
    "et_mean_rmse = np.mean(np.sqrt(-scores))\n",
    "print(et_mean_rmse) #shortlisted"
   ]
  },
  {
   "cell_type": "code",
   "execution_count": 42,
   "metadata": {},
   "outputs": [
    {
     "name": "stdout",
     "output_type": "stream",
     "text": [
      "2.6612290913267143\n"
     ]
    }
   ],
   "source": [
    "# xgboost\n",
    "xgb_reg = XGBRegressor(n_estimators = 10, random_state = 7)\n",
    "scores = cross_val_score(xgb_reg, autompg_full_df, y, scoring = \"neg_mean_squared_error\", cv = 5)\n",
    "xgb_preds = cross_val_predict(xgb_reg, autompg_full_df, y, cv = 5)\n",
    "\n",
    "predictions_df['XGB'] = xgb_preds\n",
    "xgb_mean_rmse = np.mean(np.sqrt(-scores))\n",
    "print(xgb_mean_rmse) #shortlisted"
   ]
  },
  {
   "cell_type": "code",
   "execution_count": 43,
   "metadata": {},
   "outputs": [
    {
     "name": "stdout",
     "output_type": "stream",
     "text": [
      "3.8005195479931557\n"
     ]
    }
   ],
   "source": [
    "# SVR\n",
    "svr_reg = SVR(gamma = 'scale')\n",
    "scores = cross_val_score(svr_reg, autompg_full_df, y, scoring = \"neg_mean_squared_error\", cv = 5)\n",
    "svr_preds = cross_val_predict(svr_reg, autompg_full_df, y, cv = 5)\n",
    "\n",
    "predictions_df['SVR'] = svr_preds\n",
    "svr_mean_rmse = np.mean(np.sqrt(-scores))\n",
    "print(svr_mean_rmse)"
   ]
  },
  {
   "cell_type": "code",
   "execution_count": 44,
   "metadata": {},
   "outputs": [
    {
     "name": "stdout",
     "output_type": "stream",
     "text": [
      "3.205528379625535\n"
     ]
    }
   ],
   "source": [
    "# Ridge\n",
    "ridge_reg = Ridge(alpha = 0.001)\n",
    "scores = cross_val_score(ridge_reg, autompg_full_df, y, scoring = \"neg_mean_squared_error\", cv = 5)\n",
    "ridge_preds = cross_val_predict(ridge_reg, autompg_full_df, y, cv = 5)\n",
    "\n",
    "predictions_df['Ridge'] = ridge_preds\n",
    "ridge_mean_rmse = np.mean(np.sqrt(-scores))\n",
    "print(ridge_mean_rmse)"
   ]
  },
  {
   "cell_type": "code",
   "execution_count": 45,
   "metadata": {},
   "outputs": [
    {
     "name": "stdout",
     "output_type": "stream",
     "text": [
      "3.160871304526051\n"
     ]
    }
   ],
   "source": [
    "# Lasso\n",
    "lasso_reg = Lasso(alpha = 0.05)\n",
    "scores = cross_val_score(lasso_reg, autompg_full_df, y, scoring = \"neg_mean_squared_error\", cv = 5)\n",
    "lasso_preds = cross_val_predict(lasso_reg, autompg_full_df, y, cv = 5)\n",
    "\n",
    "predictions_df['Lasso'] = lasso_preds\n",
    "lasso_mean_rmse = np.mean(np.sqrt(-scores))\n",
    "print(lasso_mean_rmse)"
   ]
  },
  {
   "cell_type": "code",
   "execution_count": 56,
   "metadata": {},
   "outputs": [
    {
     "name": "stdout",
     "output_type": "stream",
     "text": [
      "4.119366624711124\n"
     ]
    }
   ],
   "source": [
    "# KNeighborsRegressor\n",
    "knn_reg = KNeighborsRegressor(n_neighbors = 30)\n",
    "scores = cross_val_score(knn_reg, autompg_full_df, y, scoring = \"neg_mean_squared_error\", cv = 5)\n",
    "knn_preds = cross_val_predict(knn_reg, autompg_full_df, y, cv = 5)\n",
    "\n",
    "predictions_df['KNN'] = knn_preds\n",
    "knn_mean_rmse = np.mean(np.sqrt(-scores))\n",
    "print(knn_mean_rmse)"
   ]
  },
  {
   "cell_type": "code",
   "execution_count": 57,
   "metadata": {},
   "outputs": [
    {
     "data": {
      "image/png": "[encoded data removed]",
      "text/plain": [
       "<Figure size 864x576 with 2 Axes>"
      ]
     },
     "metadata": {
      "needs_background": "light"
     },
     "output_type": "display_data"
    }
   ],
   "source": [
    "# checking correlation between predictions (for potential ensembles)\n",
    "plt.rcParams['figure.figsize'] = 12, 8\n",
    "sns.heatmap(predictions_df.corr(), square = True, annot = True);\n",
    "plt.axis('equal');"
   ]
  },
  {
   "cell_type": "code",
   "execution_count": 58,
   "metadata": {},
   "outputs": [
    {
     "data": {
      "text/plain": [
       "RandomForestRegressor(bootstrap=True, ccp_alpha=0.0, criterion='mse',\n",
       "                      max_depth=None, max_features='auto', max_leaf_nodes=None,\n",
       "                      max_samples=None, min_impurity_decrease=0.0,\n",
       "                      min_impurity_split=None, min_samples_leaf=1,\n",
       "                      min_samples_split=2, min_weight_fraction_leaf=0.0,\n",
       "                      n_estimators=10, n_jobs=None, oob_score=False,\n",
       "                      random_state=7, verbose=0, warm_start=False)"
      ]
     },
     "execution_count": 58,
     "metadata": {},
     "output_type": "execute_result"
    }
   ],
   "source": [
    "et_reg.fit(autompg_full_df, y)"
   ]
  },
  {
   "cell_type": "code",
   "execution_count": 59,
   "metadata": {},
   "outputs": [
    {
     "name": "stdout",
     "output_type": "stream",
     "text": [
      "['weight', 'disp', 'cylinders', 'modelyr', 'hp', 'accel', 'Japanese', 'rabbit', 'vw', 'chevrolet', 'diesel', 'American', 'European', 'audi', 'datsun']\n"
     ]
    }
   ],
   "source": [
    "ranked_features = [columns[idx] for idx in np.argsort(et_reg.feature_importances_)]\n",
    "ranked_features.reverse()\n",
    "print(ranked_features[:15])"
   ]
  },
  {
   "cell_type": "markdown",
   "metadata": {},
   "source": [
    "### Grid search on shortlisted algorithms"
   ]
  },
  {
   "cell_type": "code",
   "execution_count": 60,
   "metadata": {},
   "outputs": [],
   "source": [
    "from scipy.stats import uniform\n",
    "from sklearn.dummy import DummyRegressor\n",
    "from sklearn.model_selection import RandomizedSearchCV, GridSearchCV"
   ]
  },
  {
   "cell_type": "code",
   "execution_count": 61,
   "metadata": {},
   "outputs": [
    {
     "name": "stdout",
     "output_type": "stream",
     "text": [
      "55 : RandomForestRegressor(bootstrap=True, ccp_alpha=0.0, criterion='mse',\n",
      "                      max_depth=60, max_features='auto', max_leaf_nodes=None,\n",
      "                      max_samples=None, min_impurity_decrease=0.0,\n",
      "                      min_impurity_split=None, min_samples_leaf=2,\n",
      "                      min_samples_split=2, min_weight_fraction_leaf=0.0,\n",
      "                      n_estimators=500, n_jobs=None, oob_score=False,\n",
      "                      random_state=7, verbose=0, warm_start=False)\n",
      "2.4198025438750728\n"
     ]
    }
   ],
   "source": [
    "best_features_tfv = None\n",
    "best_score = np.inf\n",
    "best_et_reg = None\n",
    "for features_tfv in [55, 60]:\n",
    "    \n",
    "    autompg_prep = preprocess(autompg_train, features_tfv)\n",
    "    et_pipeline = Pipeline([('et', DummyRegressor())]) # placeholder estimator\n",
    "    param_grid = {\n",
    "            'et': [RandomForestRegressor(random_state = 7)],\n",
    "            'et__n_estimators': [100, 500],\n",
    "            'et__max_depth': [30, 40, 50, 60],\n",
    "            'et__min_samples_split': [2, 5, 10],\n",
    "            'et__min_samples_leaf': [1, 2, 4],\n",
    "    }\n",
    "\n",
    "    search = RandomizedSearchCV(et_pipeline, param_grid, cv = 5, verbose = 0, n_jobs = -1, \n",
    "                                random_state = 7, n_iter = 20, scoring = 'neg_root_mean_squared_error')\n",
    "\n",
    "    et_reg = search.fit(autompg_prep, y).best_estimator_[0]\n",
    "    if best_score > (-search.best_score_):\n",
    "        best_score = -search.best_score_\n",
    "        best_et_reg = et_reg\n",
    "        best_features_tfv = features_tfv\n",
    "\n",
    "print(best_features_tfv, \":\", best_et_reg)\n",
    "print(best_score)"
   ]
  },
  {
   "cell_type": "code",
   "execution_count": 62,
   "metadata": {},
   "outputs": [
    {
     "name": "stdout",
     "output_type": "stream",
     "text": [
      "55 : ExtraTreesRegressor(bootstrap=False, ccp_alpha=0.0, criterion='mse',\n",
      "                    max_depth=100, max_features='auto', max_leaf_nodes=None,\n",
      "                    max_samples=None, min_impurity_decrease=0.0,\n",
      "                    min_impurity_split=None, min_samples_leaf=1,\n",
      "                    min_samples_split=10, min_weight_fraction_leaf=0.0,\n",
      "                    n_estimators=10, n_jobs=None, oob_score=False,\n",
      "                    random_state=7, verbose=0, warm_start=False)\n",
      "2.3379709933237596\n"
     ]
    }
   ],
   "source": [
    "best_features_tfv = None\n",
    "best_score = np.inf\n",
    "best_et_reg = None\n",
    "for features_tfv in [55, 60]:\n",
    "    \n",
    "    autompg_prep = preprocess(autompg_train, features_tfv)\n",
    "    et_pipeline = Pipeline([('et', DummyRegressor())]) # placeholder estimator\n",
    "    param_grid = {\n",
    "            'et': [ExtraTreesRegressor(random_state = 7)],\n",
    "            'et__n_estimators': [10, 100, 1000],\n",
    "            'et__max_depth': [10, 100],\n",
    "            'et__min_samples_split': [2, 5, 10],\n",
    "            'et__min_samples_leaf': [1, 2, 4],\n",
    "    }\n",
    "\n",
    "    search = RandomizedSearchCV(et_pipeline, param_grid, cv = 5, verbose = 0, n_jobs = -1, \n",
    "                                random_state = 7, n_iter = 20, scoring = 'neg_root_mean_squared_error')\n",
    "\n",
    "    et_reg = search.fit(autompg_prep, y).best_estimator_[0]\n",
    "    if best_score > (-search.best_score_):\n",
    "        best_score = -search.best_score_\n",
    "        best_et_reg = et_reg\n",
    "        best_features_tfv = features_tfv\n",
    "\n",
    "print(best_features_tfv, \":\", best_et_reg)\n",
    "print(best_score)"
   ]
  },
  {
   "cell_type": "code",
   "execution_count": 63,
   "metadata": {},
   "outputs": [
    {
     "name": "stdout",
     "output_type": "stream",
     "text": [
      "55 : XGBRegressor(base_score=0.5, booster=None, colsample_bylevel=1,\n",
      "             colsample_bynode=1, colsample_bytree=1, eta=0.09964711549354209,\n",
      "             gamma=1.6743304229389548, gpu_id=-1, importance_type='gain',\n",
      "             interaction_constraints=None, learning_rate=0.0996471122,\n",
      "             max_delta_step=0, max_depth=30, min_child_weight=1, missing=nan,\n",
      "             monotone_constraints=None, n_estimators=100, n_jobs=0,\n",
      "             num_parallel_tree=1, objective='reg:squarederror', random_state=7,\n",
      "             reg_alpha=0, reg_lambda=1, scale_pos_weight=1, subsample=1,\n",
      "             tree_method=None, validate_parameters=False, verbosity=None)\n",
      "2.346164054735838\n"
     ]
    }
   ],
   "source": [
    "best_features_tfv = None\n",
    "best_score = np.inf\n",
    "best_xgb_reg = None\n",
    "for features_tfv in [55, 60]:\n",
    "    \n",
    "    autompg_prep = preprocess(autompg_train, features_tfv)\n",
    "    xgb_pipeline = Pipeline([('xgb', DummyRegressor())]) # placeholder estimator\n",
    "    param_grid = {\n",
    "            'xgb': [XGBRegressor(random_state = 7)],\n",
    "            'xgb__eta': uniform(0.08, 0.05),\n",
    "            'xgb__gamma': uniform(1.0, 1),\n",
    "            'xgb__max_depth': [2, 20, 30, 40],\n",
    "    }\n",
    "\n",
    "    search = RandomizedSearchCV(xgb_pipeline, param_grid, cv = 5, verbose = 0, n_jobs = -1, \n",
    "                                random_state = 7, n_iter = 20, scoring = 'neg_root_mean_squared_error')\n",
    "\n",
    "    xgb_reg = search.fit(autompg_prep, y).best_estimator_[0]\n",
    "    if best_score > (-search.best_score_):\n",
    "        best_score = -search.best_score_\n",
    "        best_xgb_reg = xgb_reg\n",
    "        best_features_tfv = features_tfv\n",
    "\n",
    "print(best_features_tfv, \":\", best_xgb_reg)\n",
    "print(best_score)"
   ]
  },
  {
   "cell_type": "code",
   "execution_count": 64,
   "metadata": {},
   "outputs": [],
   "source": [
    "# best max_features_tfv = 55; so far = 2.338 - ET\n",
    "# Moving forward, we only look at ExtraTrees and XGBoost"
   ]
  },
  {
   "cell_type": "code",
   "execution_count": 65,
   "metadata": {
    "scrolled": true
   },
   "outputs": [],
   "source": [
    "autompg_prep = preprocess(autompg_train, 55)\n",
    "columns = autompg_prep.columns\n",
    "best_et_reg.fit(autompg_prep, y)\n",
    "ranked_features = [columns[idx] for idx in np.argsort(best_et_reg.feature_importances_)]\n",
    "ranked_features.reverse()"
   ]
  },
  {
   "cell_type": "code",
   "execution_count": 75,
   "metadata": {},
   "outputs": [
    {
     "name": "stdout",
     "output_type": "stream",
     "text": [
      "15 : ExtraTreesRegressor(bootstrap=False, ccp_alpha=0.0, criterion='mse',\n",
      "                    max_depth=100, max_features='auto', max_leaf_nodes=None,\n",
      "                    max_samples=None, min_impurity_decrease=0.0,\n",
      "                    min_impurity_split=None, min_samples_leaf=1,\n",
      "                    min_samples_split=5, min_weight_fraction_leaf=0.0,\n",
      "                    n_estimators=1000, n_jobs=None, oob_score=False,\n",
      "                    random_state=7, verbose=0, warm_start=False)\n",
      "2.295104151538708\n"
     ]
    }
   ],
   "source": [
    "# feature selection \n",
    "\n",
    "best_nfeatures = None\n",
    "best_score = np.inf\n",
    "best_et_reg = None\n",
    "for nfeatures in [13, 15, 17]:\n",
    "    \n",
    "    autompg_prep_sub = autompg_prep[ranked_features[:nfeatures]]\n",
    "    et_pipeline = Pipeline([('et', DummyRegressor())]) # placeholder estimator\n",
    "    param_grid = {\n",
    "            'et': [ExtraTreesRegressor(random_state = 7)],\n",
    "            'et__n_estimators': [10, 100, 1000],\n",
    "            'et__max_depth': [10, 100],\n",
    "            'et__min_samples_split': [2, 5, 10],\n",
    "            'et__min_samples_leaf': [1, 2, 4],\n",
    "    }\n",
    "\n",
    "    search = RandomizedSearchCV(et_pipeline, param_grid, cv = 5, verbose = 0, n_jobs = -1, \n",
    "                                random_state = 7, n_iter = 20, scoring = 'neg_root_mean_squared_error')\n",
    "\n",
    "    et_reg = search.fit(autompg_prep_sub, y).best_estimator_[0]\n",
    "    if best_score > (-search.best_score_):\n",
    "        best_score = -search.best_score_\n",
    "        best_et_reg = et_reg\n",
    "        best_nfeatures = nfeatures\n",
    "\n",
    "print(best_nfeatures, \":\", best_et_reg)\n",
    "print(best_score) # top 15 features were seen to be most important"
   ]
  },
  {
   "cell_type": "code",
   "execution_count": 80,
   "metadata": {},
   "outputs": [
    {
     "data": {
      "text/plain": [
       "['disp',\n",
       " 'weight',\n",
       " 'cylinders',\n",
       " 'modelyr',\n",
       " 'hp',\n",
       " 'accel',\n",
       " 'Japanese',\n",
       " 'vw',\n",
       " 'American',\n",
       " 'European',\n",
       " 'volkswagen',\n",
       " 'datsun',\n",
       " 'diesel',\n",
       " 'oldsmobile',\n",
       " 'ford',\n",
       " 'chevrolet',\n",
       " 'toyota']"
      ]
     },
     "execution_count": 80,
     "metadata": {},
     "output_type": "execute_result"
    }
   ],
   "source": [
    "sel_features = ranked_features[:nfeatures]\n",
    "sel_features"
   ]
  },
  {
   "cell_type": "code",
   "execution_count": 79,
   "metadata": {},
   "outputs": [
    {
     "name": "stdout",
     "output_type": "stream",
     "text": [
      "17 : ExtraTreesRegressor(bootstrap=False, ccp_alpha=0.0, criterion='mse',\n",
      "                    max_depth=100, max_features='auto', max_leaf_nodes=None,\n",
      "                    max_samples=None, min_impurity_decrease=0.0,\n",
      "                    min_impurity_split=None, min_samples_leaf=1,\n",
      "                    min_samples_split=2, min_weight_fraction_leaf=0.0,\n",
      "                    n_estimators=1000, n_jobs=None, oob_score=False,\n",
      "                    random_state=7, verbose=0, warm_start=False)\n",
      "2.6694985726743754\n"
     ]
    }
   ],
   "source": [
    "# Trying PCA\n",
    "from sklearn.decomposition import PCA\n",
    "best_ncomponents = None\n",
    "best_score = np.inf\n",
    "best_et_reg = None\n",
    "for ncomponents in [15, 20]:\n",
    "    \n",
    "    pca = PCA(n_components = ncomponents)\n",
    "    autompg_prep_sub = pca.fit_transform(autompg_prep)\n",
    "    et_pipeline = Pipeline([('et', DummyRegressor())]) # placeholder estimator\n",
    "    param_grid = {\n",
    "            'et': [ExtraTreesRegressor(random_state = 7)],\n",
    "            'et__n_estimators': [10, 100, 1000],\n",
    "            'et__max_depth': [10, 100],\n",
    "            'et__min_samples_split': [2, 5, 10],\n",
    "            'et__min_samples_leaf': [1, 2, 4],\n",
    "    }\n",
    "\n",
    "    search = RandomizedSearchCV(et_pipeline, param_grid, cv = 5, verbose = 0, n_jobs = -1, \n",
    "                                random_state = 7, n_iter = 20, scoring = 'neg_root_mean_squared_error')\n",
    "\n",
    "    et_reg = search.fit(autompg_prep_sub, y).best_estimator_[0]\n",
    "    if best_score > (-search.best_score_):\n",
    "        best_score = -search.best_score_\n",
    "        best_et_reg = et_reg\n",
    "        best_ncomponents = ncomponents\n",
    "\n",
    "print(best_ncomponents, \":\", best_et_reg) \n",
    "print(best_score) # Worse results with PCA"
   ]
  },
  {
   "cell_type": "code",
   "execution_count": 81,
   "metadata": {},
   "outputs": [],
   "source": [
    "def full_preprocess(dataset, max_features_tfv, sel_features):\n",
    "    dataset_pipe = preprocess(dataset, max_features_tfv = 55)\n",
    "    dataset_prep = dataset_pipe[sel_features]\n",
    "    return dataset_prep    \n",
    "\n",
    "autompg_prep = full_preprocess(autompg_train, 55, sel_features)"
   ]
  },
  {
   "cell_type": "code",
   "execution_count": 83,
   "metadata": {},
   "outputs": [
    {
     "name": "stdout",
     "output_type": "stream",
     "text": [
      "RandomForestRegressor(bootstrap=True, ccp_alpha=0.0, criterion='mse',\n",
      "                      max_depth=40, max_features='auto', max_leaf_nodes=None,\n",
      "                      max_samples=None, min_impurity_decrease=0.0,\n",
      "                      min_impurity_split=None, min_samples_leaf=1,\n",
      "                      min_samples_split=2, min_weight_fraction_leaf=0.0,\n",
      "                      n_estimators=100, n_jobs=None, oob_score=False,\n",
      "                      random_state=7, verbose=0, warm_start=False)\n",
      "2.3963015052468277\n"
     ]
    }
   ],
   "source": [
    "rf_pipeline = Pipeline([('rf', DummyRegressor())]) # placeholder estimator\n",
    "param_grid = {\n",
    "        'rf': [RandomForestRegressor(random_state = 7)],\n",
    "        'rf__n_estimators': [100, 500],\n",
    "        'rf__max_depth': [30, 40, 50, 60],\n",
    "        'rf__min_samples_split': [2, 5, 10],\n",
    "        'rf__min_samples_leaf': [1, 2, 4],\n",
    "}\n",
    "\n",
    "search = RandomizedSearchCV(rf_pipeline, param_grid, cv = 5, verbose = 0, n_jobs = -1, \n",
    "                            random_state = 7, n_iter = 20, scoring = 'neg_root_mean_squared_error')\n",
    "\n",
    "best_rf_reg = search.fit(autompg_prep, y).best_estimator_[0]\n",
    "print(best_rf_reg)\n",
    "print(-search.best_score_)"
   ]
  },
  {
   "cell_type": "code",
   "execution_count": 84,
   "metadata": {},
   "outputs": [
    {
     "name": "stdout",
     "output_type": "stream",
     "text": [
      "ExtraTreesRegressor(bootstrap=False, ccp_alpha=0.0, criterion='mse',\n",
      "                    max_depth=100, max_features='auto', max_leaf_nodes=None,\n",
      "                    max_samples=None, min_impurity_decrease=0.0,\n",
      "                    min_impurity_split=None, min_samples_leaf=1,\n",
      "                    min_samples_split=5, min_weight_fraction_leaf=0.0,\n",
      "                    n_estimators=1000, n_jobs=None, oob_score=False,\n",
      "                    random_state=7, verbose=0, warm_start=False)\n",
      "2.3145180076314915\n"
     ]
    }
   ],
   "source": [
    "et_pipeline = Pipeline([('et', DummyRegressor())]) # placeholder estimator\n",
    "param_grid = {\n",
    "        'et': [ExtraTreesRegressor(random_state = 7)],\n",
    "        'et__n_estimators': [10, 100, 1000],\n",
    "        'et__max_depth': [10, 100],\n",
    "        'et__min_samples_split': [2, 5, 10],\n",
    "        'et__min_samples_leaf': [1, 2, 4],\n",
    "}\n",
    "\n",
    "search = RandomizedSearchCV(et_pipeline, param_grid, cv = 5, verbose = 0, n_jobs = -1, \n",
    "                            random_state = 7, n_iter = 20, scoring = 'neg_root_mean_squared_error')\n",
    "\n",
    "best_et_reg = search.fit(autompg_prep, y).best_estimator_[0]\n",
    "print(best_et_reg)\n",
    "print(-search.best_score_)"
   ]
  },
  {
   "cell_type": "code",
   "execution_count": 87,
   "metadata": {},
   "outputs": [
    {
     "name": "stdout",
     "output_type": "stream",
     "text": [
      "XGBRegressor(base_score=0.5, booster=None, colsample_bylevel=1,\n",
      "             colsample_bynode=1, colsample_bytree=1, eta=0.12647640955865608,\n",
      "             gamma=1.262583770043397, gpu_id=-1, importance_type='gain',\n",
      "             interaction_constraints=None, learning_rate=0.126476407,\n",
      "             max_delta_step=0, max_depth=2, min_child_weight=1, missing=nan,\n",
      "             monotone_constraints=None, n_estimators=100, n_jobs=0,\n",
      "             num_parallel_tree=1, objective='reg:squarederror', random_state=7,\n",
      "             reg_alpha=0, reg_lambda=1, scale_pos_weight=1, subsample=1,\n",
      "             tree_method=None, validate_parameters=False, verbosity=None)\n",
      "2.328914360114768\n"
     ]
    }
   ],
   "source": [
    "xgb_pipeline = Pipeline([('xgb', DummyRegressor())]) # placeholder estimator\n",
    "param_grid = {\n",
    "        'xgb': [XGBRegressor(random_state = 7)],\n",
    "        'xgb__eta': uniform(0.08, 0.05),\n",
    "        'xgb__gamma': uniform(1.0, 1),\n",
    "        'xgb__max_depth': [2, 20, 30, 40],\n",
    "}\n",
    "\n",
    "search = RandomizedSearchCV(xgb_pipeline, param_grid, cv = 5, verbose = 0, n_jobs = -1, \n",
    "                            random_state = 7, n_iter = 20, scoring = 'neg_root_mean_squared_error')\n",
    "\n",
    "best_xgb_reg = search.fit(autompg_prep, y).best_estimator_[0]\n",
    "print(best_xgb_reg)\n",
    "print(-search.best_score_)"
   ]
  },
  {
   "cell_type": "code",
   "execution_count": null,
   "metadata": {},
   "outputs": [],
   "source": []
  }
 ],
 "metadata": {
  "kernelspec": {
   "display_name": "Python 3",
   "language": "python",
   "name": "python3"
  },
  "language_info": {
   "codemirror_mode": {
    "name": "ipython",
    "version": 3
   },
   "file_extension": ".py",
   "mimetype": "text/x-python",
   "name": "python",
   "nbconvert_exporter": "python",
   "pygments_lexer": "ipython3",
   "version": "3.7.3"
  },
  "toc": {
   "base_numbering": 1,
   "nav_menu": {},
   "number_sections": true,
   "sideBar": true,
   "skip_h1_title": false,
   "title_cell": "Table of Contents",
   "title_sidebar": "Contents",
   "toc_cell": false,
   "toc_position": {},
   "toc_section_display": true,
   "toc_window_display": false
  },
  "varInspector": {
   "cols": {
    "lenName": 16,
    "lenType": 16,
    "lenVar": 40
   },
   "kernels_config": {
    "python": {
     "delete_cmd_postfix": "",
     "delete_cmd_prefix": "del ",
     "library": "var_list.py",
     "varRefreshCmd": "print(var_dic_list())"
    },
    "r": {
     "delete_cmd_postfix": ") ",
     "delete_cmd_prefix": "rm(",
     "library": "var_list.r",
     "varRefreshCmd": "cat(var_dic_list()) "
    }
   },
   "types_to_exclude": [
    "module",
    "function",
    "builtin_function_or_method",
    "instance",
    "_Feature"
   ],
   "window_display": false
  }
 },
 "nbformat": 4,
 "nbformat_minor": 4
}
