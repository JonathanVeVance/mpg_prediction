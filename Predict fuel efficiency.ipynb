{
 "cells": [
  {
   "cell_type": "code",
   "execution_count": 1,
   "metadata": {},
   "outputs": [],
   "source": [
    "import pandas as pd\n",
    "import numpy as np\n",
    "import seaborn as sns\n",
    "import matplotlib.pyplot as plt"
   ]
  },
  {
   "cell_type": "code",
   "execution_count": 2,
   "metadata": {},
   "outputs": [],
   "source": [
    "columns = ['mpg', 'cylinders', 'disp', 'hp', 'weight', 'accel', 'modelyr', 'origin', 'carname']\n",
    "autompg = pd.read_csv('auto-mpg.csv', names = columns)\n",
    "autompg.dropna(inplace = True)\n",
    "autompg['hp'] = autompg['hp'].astype(np.float)"
   ]
  },
  {
   "cell_type": "code",
   "execution_count": 3,
   "metadata": {
    "scrolled": false
   },
   "outputs": [
    {
     "data": {
      "text/html": [
       "<div>\n",
       "<style scoped>\n",
       "    .dataframe tbody tr th:only-of-type {\n",
       "        vertical-align: middle;\n",
       "    }\n",
       "\n",
       "    .dataframe tbody tr th {\n",
       "        vertical-align: top;\n",
       "    }\n",
       "\n",
       "    .dataframe thead th {\n",
       "        text-align: right;\n",
       "    }\n",
       "</style>\n",
       "<table border=\"1\" class=\"dataframe\">\n",
       "  <thead>\n",
       "    <tr style=\"text-align: right;\">\n",
       "      <th></th>\n",
       "      <th>mpg</th>\n",
       "      <th>cylinders</th>\n",
       "      <th>disp</th>\n",
       "      <th>hp</th>\n",
       "      <th>weight</th>\n",
       "      <th>accel</th>\n",
       "      <th>modelyr</th>\n",
       "      <th>origin</th>\n",
       "      <th>carname</th>\n",
       "    </tr>\n",
       "  </thead>\n",
       "  <tbody>\n",
       "    <tr>\n",
       "      <td>0</td>\n",
       "      <td>18.0</td>\n",
       "      <td>8</td>\n",
       "      <td>307.0</td>\n",
       "      <td>130.0</td>\n",
       "      <td>3504.0</td>\n",
       "      <td>12.0</td>\n",
       "      <td>70.0</td>\n",
       "      <td>1</td>\n",
       "      <td>chevrolet,chevelle malibu</td>\n",
       "    </tr>\n",
       "    <tr>\n",
       "      <td>1</td>\n",
       "      <td>15.0</td>\n",
       "      <td>8</td>\n",
       "      <td>350.0</td>\n",
       "      <td>165.0</td>\n",
       "      <td>3693.0</td>\n",
       "      <td>11.5</td>\n",
       "      <td>70.0</td>\n",
       "      <td>1</td>\n",
       "      <td>buick skylark 320</td>\n",
       "    </tr>\n",
       "    <tr>\n",
       "      <td>2</td>\n",
       "      <td>18.0</td>\n",
       "      <td>8</td>\n",
       "      <td>318.0</td>\n",
       "      <td>150.0</td>\n",
       "      <td>3436.0</td>\n",
       "      <td>11.0</td>\n",
       "      <td>70.0</td>\n",
       "      <td>1</td>\n",
       "      <td>plymouth satellite</td>\n",
       "    </tr>\n",
       "    <tr>\n",
       "      <td>3</td>\n",
       "      <td>16.0</td>\n",
       "      <td>8</td>\n",
       "      <td>304.0</td>\n",
       "      <td>150.0</td>\n",
       "      <td>3433.0</td>\n",
       "      <td>12.0</td>\n",
       "      <td>70.0</td>\n",
       "      <td>1</td>\n",
       "      <td>amc rebel sst</td>\n",
       "    </tr>\n",
       "    <tr>\n",
       "      <td>4</td>\n",
       "      <td>17.0</td>\n",
       "      <td>8</td>\n",
       "      <td>302.0</td>\n",
       "      <td>140.0</td>\n",
       "      <td>3449.0</td>\n",
       "      <td>10.5</td>\n",
       "      <td>70.0</td>\n",
       "      <td>1</td>\n",
       "      <td>ford torino</td>\n",
       "    </tr>\n",
       "    <tr>\n",
       "      <td>...</td>\n",
       "      <td>...</td>\n",
       "      <td>...</td>\n",
       "      <td>...</td>\n",
       "      <td>...</td>\n",
       "      <td>...</td>\n",
       "      <td>...</td>\n",
       "      <td>...</td>\n",
       "      <td>...</td>\n",
       "      <td>...</td>\n",
       "    </tr>\n",
       "    <tr>\n",
       "      <td>393</td>\n",
       "      <td>27.0</td>\n",
       "      <td>4</td>\n",
       "      <td>140.0</td>\n",
       "      <td>86.0</td>\n",
       "      <td>2790.0</td>\n",
       "      <td>15.6</td>\n",
       "      <td>82.0</td>\n",
       "      <td>1</td>\n",
       "      <td>ford mustang gl</td>\n",
       "    </tr>\n",
       "    <tr>\n",
       "      <td>394</td>\n",
       "      <td>44.0</td>\n",
       "      <td>4</td>\n",
       "      <td>97.0</td>\n",
       "      <td>52.0</td>\n",
       "      <td>2130.0</td>\n",
       "      <td>24.6</td>\n",
       "      <td>82.0</td>\n",
       "      <td>2</td>\n",
       "      <td>vw pickup</td>\n",
       "    </tr>\n",
       "    <tr>\n",
       "      <td>395</td>\n",
       "      <td>32.0</td>\n",
       "      <td>4</td>\n",
       "      <td>135.0</td>\n",
       "      <td>84.0</td>\n",
       "      <td>2295.0</td>\n",
       "      <td>11.6</td>\n",
       "      <td>82.0</td>\n",
       "      <td>1</td>\n",
       "      <td>dodge rampage</td>\n",
       "    </tr>\n",
       "    <tr>\n",
       "      <td>396</td>\n",
       "      <td>28.0</td>\n",
       "      <td>4</td>\n",
       "      <td>120.0</td>\n",
       "      <td>79.0</td>\n",
       "      <td>2625.0</td>\n",
       "      <td>18.6</td>\n",
       "      <td>82.0</td>\n",
       "      <td>1</td>\n",
       "      <td>ford ranger</td>\n",
       "    </tr>\n",
       "    <tr>\n",
       "      <td>397</td>\n",
       "      <td>31.0</td>\n",
       "      <td>4</td>\n",
       "      <td>119.0</td>\n",
       "      <td>82.0</td>\n",
       "      <td>2720.0</td>\n",
       "      <td>19.4</td>\n",
       "      <td>82.0</td>\n",
       "      <td>1</td>\n",
       "      <td>chevy s-10</td>\n",
       "    </tr>\n",
       "  </tbody>\n",
       "</table>\n",
       "<p>392 rows × 9 columns</p>\n",
       "</div>"
      ],
      "text/plain": [
       "      mpg  cylinders   disp     hp  weight  accel  modelyr  origin  \\\n",
       "0    18.0          8  307.0  130.0  3504.0   12.0     70.0       1   \n",
       "1    15.0          8  350.0  165.0  3693.0   11.5     70.0       1   \n",
       "2    18.0          8  318.0  150.0  3436.0   11.0     70.0       1   \n",
       "3    16.0          8  304.0  150.0  3433.0   12.0     70.0       1   \n",
       "4    17.0          8  302.0  140.0  3449.0   10.5     70.0       1   \n",
       "..    ...        ...    ...    ...     ...    ...      ...     ...   \n",
       "393  27.0          4  140.0   86.0  2790.0   15.6     82.0       1   \n",
       "394  44.0          4   97.0   52.0  2130.0   24.6     82.0       2   \n",
       "395  32.0          4  135.0   84.0  2295.0   11.6     82.0       1   \n",
       "396  28.0          4  120.0   79.0  2625.0   18.6     82.0       1   \n",
       "397  31.0          4  119.0   82.0  2720.0   19.4     82.0       1   \n",
       "\n",
       "                       carname  \n",
       "0    chevrolet,chevelle malibu  \n",
       "1            buick skylark 320  \n",
       "2           plymouth satellite  \n",
       "3                amc rebel sst  \n",
       "4                  ford torino  \n",
       "..                         ...  \n",
       "393            ford mustang gl  \n",
       "394                  vw pickup  \n",
       "395              dodge rampage  \n",
       "396                ford ranger  \n",
       "397                 chevy s-10  \n",
       "\n",
       "[392 rows x 9 columns]"
      ]
     },
     "execution_count": 3,
     "metadata": {},
     "output_type": "execute_result"
    }
   ],
   "source": [
    "autompg"
   ]
  },
  {
   "cell_type": "code",
   "execution_count": 4,
   "metadata": {},
   "outputs": [
    {
     "data": {
      "text/html": [
       "<div>\n",
       "<style scoped>\n",
       "    .dataframe tbody tr th:only-of-type {\n",
       "        vertical-align: middle;\n",
       "    }\n",
       "\n",
       "    .dataframe tbody tr th {\n",
       "        vertical-align: top;\n",
       "    }\n",
       "\n",
       "    .dataframe thead th {\n",
       "        text-align: right;\n",
       "    }\n",
       "</style>\n",
       "<table border=\"1\" class=\"dataframe\">\n",
       "  <thead>\n",
       "    <tr style=\"text-align: right;\">\n",
       "      <th></th>\n",
       "      <th>mpg</th>\n",
       "      <th>cylinders</th>\n",
       "      <th>disp</th>\n",
       "      <th>hp</th>\n",
       "      <th>weight</th>\n",
       "      <th>accel</th>\n",
       "      <th>modelyr</th>\n",
       "      <th>origin</th>\n",
       "    </tr>\n",
       "  </thead>\n",
       "  <tbody>\n",
       "    <tr>\n",
       "      <td>count</td>\n",
       "      <td>392.000000</td>\n",
       "      <td>392.000000</td>\n",
       "      <td>392.000000</td>\n",
       "      <td>392.000000</td>\n",
       "      <td>392.000000</td>\n",
       "      <td>392.000000</td>\n",
       "      <td>392.000000</td>\n",
       "      <td>392.000000</td>\n",
       "    </tr>\n",
       "    <tr>\n",
       "      <td>mean</td>\n",
       "      <td>23.445918</td>\n",
       "      <td>5.471939</td>\n",
       "      <td>194.411990</td>\n",
       "      <td>104.469388</td>\n",
       "      <td>2977.584184</td>\n",
       "      <td>15.541327</td>\n",
       "      <td>75.979592</td>\n",
       "      <td>1.576531</td>\n",
       "    </tr>\n",
       "    <tr>\n",
       "      <td>std</td>\n",
       "      <td>7.805007</td>\n",
       "      <td>1.705783</td>\n",
       "      <td>104.644004</td>\n",
       "      <td>38.491160</td>\n",
       "      <td>849.402560</td>\n",
       "      <td>2.758864</td>\n",
       "      <td>3.683737</td>\n",
       "      <td>0.805518</td>\n",
       "    </tr>\n",
       "    <tr>\n",
       "      <td>min</td>\n",
       "      <td>9.000000</td>\n",
       "      <td>3.000000</td>\n",
       "      <td>68.000000</td>\n",
       "      <td>46.000000</td>\n",
       "      <td>1613.000000</td>\n",
       "      <td>8.000000</td>\n",
       "      <td>70.000000</td>\n",
       "      <td>1.000000</td>\n",
       "    </tr>\n",
       "    <tr>\n",
       "      <td>25%</td>\n",
       "      <td>17.000000</td>\n",
       "      <td>4.000000</td>\n",
       "      <td>105.000000</td>\n",
       "      <td>75.000000</td>\n",
       "      <td>2225.250000</td>\n",
       "      <td>13.775000</td>\n",
       "      <td>73.000000</td>\n",
       "      <td>1.000000</td>\n",
       "    </tr>\n",
       "    <tr>\n",
       "      <td>50%</td>\n",
       "      <td>22.750000</td>\n",
       "      <td>4.000000</td>\n",
       "      <td>151.000000</td>\n",
       "      <td>93.500000</td>\n",
       "      <td>2803.500000</td>\n",
       "      <td>15.500000</td>\n",
       "      <td>76.000000</td>\n",
       "      <td>1.000000</td>\n",
       "    </tr>\n",
       "    <tr>\n",
       "      <td>75%</td>\n",
       "      <td>29.000000</td>\n",
       "      <td>8.000000</td>\n",
       "      <td>275.750000</td>\n",
       "      <td>126.000000</td>\n",
       "      <td>3614.750000</td>\n",
       "      <td>17.025000</td>\n",
       "      <td>79.000000</td>\n",
       "      <td>2.000000</td>\n",
       "    </tr>\n",
       "    <tr>\n",
       "      <td>max</td>\n",
       "      <td>46.600000</td>\n",
       "      <td>8.000000</td>\n",
       "      <td>455.000000</td>\n",
       "      <td>230.000000</td>\n",
       "      <td>5140.000000</td>\n",
       "      <td>24.800000</td>\n",
       "      <td>82.000000</td>\n",
       "      <td>3.000000</td>\n",
       "    </tr>\n",
       "  </tbody>\n",
       "</table>\n",
       "</div>"
      ],
      "text/plain": [
       "              mpg   cylinders        disp          hp       weight  \\\n",
       "count  392.000000  392.000000  392.000000  392.000000   392.000000   \n",
       "mean    23.445918    5.471939  194.411990  104.469388  2977.584184   \n",
       "std      7.805007    1.705783  104.644004   38.491160   849.402560   \n",
       "min      9.000000    3.000000   68.000000   46.000000  1613.000000   \n",
       "25%     17.000000    4.000000  105.000000   75.000000  2225.250000   \n",
       "50%     22.750000    4.000000  151.000000   93.500000  2803.500000   \n",
       "75%     29.000000    8.000000  275.750000  126.000000  3614.750000   \n",
       "max     46.600000    8.000000  455.000000  230.000000  5140.000000   \n",
       "\n",
       "            accel     modelyr      origin  \n",
       "count  392.000000  392.000000  392.000000  \n",
       "mean    15.541327   75.979592    1.576531  \n",
       "std      2.758864    3.683737    0.805518  \n",
       "min      8.000000   70.000000    1.000000  \n",
       "25%     13.775000   73.000000    1.000000  \n",
       "50%     15.500000   76.000000    1.000000  \n",
       "75%     17.025000   79.000000    2.000000  \n",
       "max     24.800000   82.000000    3.000000  "
      ]
     },
     "execution_count": 4,
     "metadata": {},
     "output_type": "execute_result"
    }
   ],
   "source": [
    "autompg.describe()"
   ]
  },
  {
   "cell_type": "code",
   "execution_count": 5,
   "metadata": {},
   "outputs": [
    {
     "data": {
      "image/png": "[encoded data removed]",
      "text/plain": [
       "<Figure size 1152x864 with 9 Axes>"
      ]
     },
     "metadata": {
      "needs_background": "light"
     },
     "output_type": "display_data"
    }
   ],
   "source": [
    "plt.rcParams['figure.figsize'] = 16, 12\n",
    "autompg.hist(bins = 20)\n",
    "plt.show()"
   ]
  },
  {
   "cell_type": "code",
   "execution_count": 6,
   "metadata": {},
   "outputs": [
    {
     "data": {
      "image/png": "[encoded data removed]",
      "text/plain": [
       "<Figure size 576x432 with 2 Axes>"
      ]
     },
     "metadata": {
      "needs_background": "light"
     },
     "output_type": "display_data"
    }
   ],
   "source": [
    "plt.rcParams['figure.figsize'] = 8, 6\n",
    "sns.heatmap(autompg.corr(), square = True);\n",
    "plt.axis('equal');\n",
    "\n",
    "# shows all features are at least mildly correlated\n",
    "# least correlated features are accel, modelyr, origin\n"
   ]
  },
  {
   "cell_type": "code",
   "execution_count": 7,
   "metadata": {},
   "outputs": [
    {
     "data": {
      "text/plain": [
       "mpg          1.000000\n",
       "cylinders   -0.777618\n",
       "disp        -0.805127\n",
       "hp          -0.778427\n",
       "weight      -0.832244\n",
       "accel        0.423329\n",
       "modelyr      0.580541\n",
       "origin       0.565209\n",
       "Name: mpg, dtype: float64"
      ]
     },
     "execution_count": 7,
     "metadata": {},
     "output_type": "execute_result"
    }
   ],
   "source": [
    "autompg.corr()['mpg']"
   ]
  },
  {
   "cell_type": "code",
   "execution_count": 8,
   "metadata": {
    "scrolled": false
   },
   "outputs": [
    {
     "data": {
      "image/png": "[encoded data removed]",
      "text/plain": [
       "<Figure size 576x432 with 1 Axes>"
      ]
     },
     "metadata": {
      "needs_background": "light"
     },
     "output_type": "display_data"
    }
   ],
   "source": [
    "plt.scatter(autompg['mpg'], autompg['accel'])\n",
    "plt.ylabel('Accel')\n",
    "plt.xlabel('mpg')\n",
    "plt.show()\n",
    "\n",
    "# randomly arranged - seemingly no relationship"
   ]
  },
  {
   "cell_type": "code",
   "execution_count": 9,
   "metadata": {},
   "outputs": [],
   "source": [
    "# metric = RMSE\n",
    "def rmse(true, pred):\n",
    "    rmse = np.mean(np.square(true - pred))\n",
    "    return rmse"
   ]
  },
  {
   "cell_type": "code",
   "execution_count": 10,
   "metadata": {},
   "outputs": [],
   "source": [
    "# Separate train test sets\n",
    "from sklearn.model_selection import StratifiedShuffleSplit\n",
    "\n",
    "test_size = 0.2\n",
    "num_datapoints = len(autompg)\n",
    "                     \n",
    "weight_cat = pd.cut(autompg[\"weight\"], bins=[0, 1500, 2000, 3500, np. inf], labels = [1, 2, 3, 4])\n",
    "split = StratifiedShuffleSplit(n_splits = 1, test_size = test_size, random_state = 42) \n",
    "for train_index, test_index in split.split(autompg, weight_cat): \n",
    "    strat_train_set = autompg.iloc[train_index] \n",
    "    strat_test_set = autompg.iloc[test_index]\n",
    "\n",
    "autompg_train = strat_train_set.copy()"
   ]
  },
  {
   "cell_type": "code",
   "execution_count": 11,
   "metadata": {
    "scrolled": true
   },
   "outputs": [
    {
     "name": "stdout",
     "output_type": "stream",
     "text": [
      "70.81405523136934\n"
     ]
    }
   ],
   "source": [
    "avg_mpg = np.mean(autompg_train['mpg'])\n",
    "baseline_preds = avg_mpg * np.ones(int(np.ceil(num_datapoints * test_size)))\n",
    "y_test = strat_test_set['mpg']\n",
    "\n",
    "print(rmse(baseline_preds, y_test))"
   ]
  },
  {
   "cell_type": "code",
   "execution_count": 12,
   "metadata": {},
   "outputs": [
    {
     "data": {
      "text/html": [
       "<div>\n",
       "<style scoped>\n",
       "    .dataframe tbody tr th:only-of-type {\n",
       "        vertical-align: middle;\n",
       "    }\n",
       "\n",
       "    .dataframe tbody tr th {\n",
       "        vertical-align: top;\n",
       "    }\n",
       "\n",
       "    .dataframe thead th {\n",
       "        text-align: right;\n",
       "    }\n",
       "</style>\n",
       "<table border=\"1\" class=\"dataframe\">\n",
       "  <thead>\n",
       "    <tr style=\"text-align: right;\">\n",
       "      <th></th>\n",
       "      <th>mpg</th>\n",
       "      <th>cylinders</th>\n",
       "      <th>disp</th>\n",
       "      <th>hp</th>\n",
       "      <th>weight</th>\n",
       "      <th>accel</th>\n",
       "      <th>modelyr</th>\n",
       "      <th>origin</th>\n",
       "      <th>carname</th>\n",
       "    </tr>\n",
       "  </thead>\n",
       "  <tbody>\n",
       "    <tr>\n",
       "      <td>298</td>\n",
       "      <td>23.0</td>\n",
       "      <td>8</td>\n",
       "      <td>350.0</td>\n",
       "      <td>125.0</td>\n",
       "      <td>3900.0</td>\n",
       "      <td>17.4</td>\n",
       "      <td>79.0</td>\n",
       "      <td>1</td>\n",
       "      <td>cadillac eldorado</td>\n",
       "    </tr>\n",
       "    <tr>\n",
       "      <td>226</td>\n",
       "      <td>20.5</td>\n",
       "      <td>6</td>\n",
       "      <td>231.0</td>\n",
       "      <td>105.0</td>\n",
       "      <td>3425.0</td>\n",
       "      <td>16.9</td>\n",
       "      <td>77.0</td>\n",
       "      <td>1</td>\n",
       "      <td>buick skylark</td>\n",
       "    </tr>\n",
       "    <tr>\n",
       "      <td>122</td>\n",
       "      <td>24.0</td>\n",
       "      <td>4</td>\n",
       "      <td>121.0</td>\n",
       "      <td>110.0</td>\n",
       "      <td>2660.0</td>\n",
       "      <td>14.0</td>\n",
       "      <td>73.0</td>\n",
       "      <td>2</td>\n",
       "      <td>saab 99le</td>\n",
       "    </tr>\n",
       "    <tr>\n",
       "      <td>364</td>\n",
       "      <td>26.6</td>\n",
       "      <td>8</td>\n",
       "      <td>350.0</td>\n",
       "      <td>105.0</td>\n",
       "      <td>3725.0</td>\n",
       "      <td>19.0</td>\n",
       "      <td>81.0</td>\n",
       "      <td>1</td>\n",
       "      <td>oldsmobile cutlass ls</td>\n",
       "    </tr>\n",
       "    <tr>\n",
       "      <td>308</td>\n",
       "      <td>33.5</td>\n",
       "      <td>4</td>\n",
       "      <td>151.0</td>\n",
       "      <td>90.0</td>\n",
       "      <td>2556.0</td>\n",
       "      <td>13.2</td>\n",
       "      <td>79.0</td>\n",
       "      <td>1</td>\n",
       "      <td>pontiac phoenix</td>\n",
       "    </tr>\n",
       "    <tr>\n",
       "      <td>...</td>\n",
       "      <td>...</td>\n",
       "      <td>...</td>\n",
       "      <td>...</td>\n",
       "      <td>...</td>\n",
       "      <td>...</td>\n",
       "      <td>...</td>\n",
       "      <td>...</td>\n",
       "      <td>...</td>\n",
       "      <td>...</td>\n",
       "    </tr>\n",
       "    <tr>\n",
       "      <td>277</td>\n",
       "      <td>16.2</td>\n",
       "      <td>6</td>\n",
       "      <td>163.0</td>\n",
       "      <td>133.0</td>\n",
       "      <td>3410.0</td>\n",
       "      <td>15.8</td>\n",
       "      <td>78.0</td>\n",
       "      <td>2</td>\n",
       "      <td>peugeot 604sl</td>\n",
       "    </tr>\n",
       "    <tr>\n",
       "      <td>128</td>\n",
       "      <td>15.0</td>\n",
       "      <td>6</td>\n",
       "      <td>250.0</td>\n",
       "      <td>100.0</td>\n",
       "      <td>3336.0</td>\n",
       "      <td>17.0</td>\n",
       "      <td>74.0</td>\n",
       "      <td>1</td>\n",
       "      <td>chevrolet nova</td>\n",
       "    </tr>\n",
       "    <tr>\n",
       "      <td>259</td>\n",
       "      <td>20.8</td>\n",
       "      <td>6</td>\n",
       "      <td>200.0</td>\n",
       "      <td>85.0</td>\n",
       "      <td>3070.0</td>\n",
       "      <td>16.7</td>\n",
       "      <td>78.0</td>\n",
       "      <td>1</td>\n",
       "      <td>mercury zephyr</td>\n",
       "    </tr>\n",
       "    <tr>\n",
       "      <td>225</td>\n",
       "      <td>17.5</td>\n",
       "      <td>6</td>\n",
       "      <td>250.0</td>\n",
       "      <td>110.0</td>\n",
       "      <td>3520.0</td>\n",
       "      <td>16.4</td>\n",
       "      <td>77.0</td>\n",
       "      <td>1</td>\n",
       "      <td>chevrolet concours</td>\n",
       "    </tr>\n",
       "    <tr>\n",
       "      <td>264</td>\n",
       "      <td>18.1</td>\n",
       "      <td>8</td>\n",
       "      <td>302.0</td>\n",
       "      <td>139.0</td>\n",
       "      <td>3205.0</td>\n",
       "      <td>11.2</td>\n",
       "      <td>78.0</td>\n",
       "      <td>1</td>\n",
       "      <td>ford futura</td>\n",
       "    </tr>\n",
       "  </tbody>\n",
       "</table>\n",
       "<p>313 rows × 9 columns</p>\n",
       "</div>"
      ],
      "text/plain": [
       "      mpg  cylinders   disp     hp  weight  accel  modelyr  origin  \\\n",
       "298  23.0          8  350.0  125.0  3900.0   17.4     79.0       1   \n",
       "226  20.5          6  231.0  105.0  3425.0   16.9     77.0       1   \n",
       "122  24.0          4  121.0  110.0  2660.0   14.0     73.0       2   \n",
       "364  26.6          8  350.0  105.0  3725.0   19.0     81.0       1   \n",
       "308  33.5          4  151.0   90.0  2556.0   13.2     79.0       1   \n",
       "..    ...        ...    ...    ...     ...    ...      ...     ...   \n",
       "277  16.2          6  163.0  133.0  3410.0   15.8     78.0       2   \n",
       "128  15.0          6  250.0  100.0  3336.0   17.0     74.0       1   \n",
       "259  20.8          6  200.0   85.0  3070.0   16.7     78.0       1   \n",
       "225  17.5          6  250.0  110.0  3520.0   16.4     77.0       1   \n",
       "264  18.1          8  302.0  139.0  3205.0   11.2     78.0       1   \n",
       "\n",
       "                   carname  \n",
       "298      cadillac eldorado  \n",
       "226          buick skylark  \n",
       "122              saab 99le  \n",
       "364  oldsmobile cutlass ls  \n",
       "308        pontiac phoenix  \n",
       "..                     ...  \n",
       "277          peugeot 604sl  \n",
       "128         chevrolet nova  \n",
       "259         mercury zephyr  \n",
       "225     chevrolet concours  \n",
       "264            ford futura  \n",
       "\n",
       "[313 rows x 9 columns]"
      ]
     },
     "execution_count": 12,
     "metadata": {},
     "output_type": "execute_result"
    }
   ],
   "source": [
    "autompg_train"
   ]
  },
  {
   "cell_type": "code",
   "execution_count": 13,
   "metadata": {
    "scrolled": true
   },
   "outputs": [
    {
     "data": {
      "text/plain": [
       "mpg          1.000000\n",
       "cylinders   -0.778516\n",
       "disp        -0.807674\n",
       "hp          -0.781327\n",
       "weight      -0.836770\n",
       "accel        0.433985\n",
       "modelyr      0.561238\n",
       "origin       0.553627\n",
       "Name: mpg, dtype: float64"
      ]
     },
     "execution_count": 13,
     "metadata": {},
     "output_type": "execute_result"
    }
   ],
   "source": [
    "autompg_train.corr()['mpg']"
   ]
  },
  {
   "cell_type": "code",
   "execution_count": 14,
   "metadata": {},
   "outputs": [
    {
     "data": {
      "image/png": "[encoded data removed]",
      "text/plain": [
       "<Figure size 576x432 with 1 Axes>"
      ]
     },
     "metadata": {
      "needs_background": "light"
     },
     "output_type": "display_data"
    }
   ],
   "source": [
    "plt.scatter(autompg_train['mpg'], autompg_train['accel'])\n",
    "plt.ylabel('Accel')\n",
    "plt.xlabel('mpg')\n",
    "plt.show()\n",
    "\n",
    "# accel still looks random"
   ]
  },
  {
   "cell_type": "code",
   "execution_count": 15,
   "metadata": {},
   "outputs": [
    {
     "data": {
      "image/png": "[encoded data removed]",
      "text/plain": [
       "<Figure size 864x576 with 25 Axes>"
      ]
     },
     "metadata": {
      "needs_background": "light"
     },
     "output_type": "display_data"
    }
   ],
   "source": [
    "from pandas.plotting import scatter_matrix\n",
    "corr_features = ['mpg', 'disp', 'weight', 'hp', 'cylinders']\n",
    "scatter_matrix(autompg_train[corr_features], figsize = (12, 8));\n",
    "\n",
    "# disp, weight, hp are tail heavy"
   ]
  },
  {
   "cell_type": "code",
   "execution_count": 16,
   "metadata": {
    "scrolled": true
   },
   "outputs": [
    {
     "data": {
      "text/html": [
       "<div>\n",
       "<style scoped>\n",
       "    .dataframe tbody tr th:only-of-type {\n",
       "        vertical-align: middle;\n",
       "    }\n",
       "\n",
       "    .dataframe tbody tr th {\n",
       "        vertical-align: top;\n",
       "    }\n",
       "\n",
       "    .dataframe thead th {\n",
       "        text-align: right;\n",
       "    }\n",
       "</style>\n",
       "<table border=\"1\" class=\"dataframe\">\n",
       "  <thead>\n",
       "    <tr style=\"text-align: right;\">\n",
       "      <th></th>\n",
       "      <th>mpg</th>\n",
       "      <th>cylinders</th>\n",
       "      <th>disp</th>\n",
       "      <th>hp</th>\n",
       "      <th>weight</th>\n",
       "      <th>accel</th>\n",
       "      <th>modelyr</th>\n",
       "      <th>origin</th>\n",
       "      <th>carname</th>\n",
       "    </tr>\n",
       "  </thead>\n",
       "  <tbody>\n",
       "    <tr>\n",
       "      <td>298</td>\n",
       "      <td>23.0</td>\n",
       "      <td>8</td>\n",
       "      <td>350.0</td>\n",
       "      <td>125.0</td>\n",
       "      <td>3900.0</td>\n",
       "      <td>17.4</td>\n",
       "      <td>79.0</td>\n",
       "      <td>1</td>\n",
       "      <td>cadillac eldorado</td>\n",
       "    </tr>\n",
       "    <tr>\n",
       "      <td>226</td>\n",
       "      <td>20.5</td>\n",
       "      <td>6</td>\n",
       "      <td>231.0</td>\n",
       "      <td>105.0</td>\n",
       "      <td>3425.0</td>\n",
       "      <td>16.9</td>\n",
       "      <td>77.0</td>\n",
       "      <td>1</td>\n",
       "      <td>buick skylark</td>\n",
       "    </tr>\n",
       "    <tr>\n",
       "      <td>122</td>\n",
       "      <td>24.0</td>\n",
       "      <td>4</td>\n",
       "      <td>121.0</td>\n",
       "      <td>110.0</td>\n",
       "      <td>2660.0</td>\n",
       "      <td>14.0</td>\n",
       "      <td>73.0</td>\n",
       "      <td>2</td>\n",
       "      <td>saab 99le</td>\n",
       "    </tr>\n",
       "    <tr>\n",
       "      <td>364</td>\n",
       "      <td>26.6</td>\n",
       "      <td>8</td>\n",
       "      <td>350.0</td>\n",
       "      <td>105.0</td>\n",
       "      <td>3725.0</td>\n",
       "      <td>19.0</td>\n",
       "      <td>81.0</td>\n",
       "      <td>1</td>\n",
       "      <td>oldsmobile cutlass ls</td>\n",
       "    </tr>\n",
       "    <tr>\n",
       "      <td>308</td>\n",
       "      <td>33.5</td>\n",
       "      <td>4</td>\n",
       "      <td>151.0</td>\n",
       "      <td>90.0</td>\n",
       "      <td>2556.0</td>\n",
       "      <td>13.2</td>\n",
       "      <td>79.0</td>\n",
       "      <td>1</td>\n",
       "      <td>pontiac phoenix</td>\n",
       "    </tr>\n",
       "  </tbody>\n",
       "</table>\n",
       "</div>"
      ],
      "text/plain": [
       "      mpg  cylinders   disp     hp  weight  accel  modelyr  origin  \\\n",
       "298  23.0          8  350.0  125.0  3900.0   17.4     79.0       1   \n",
       "226  20.5          6  231.0  105.0  3425.0   16.9     77.0       1   \n",
       "122  24.0          4  121.0  110.0  2660.0   14.0     73.0       2   \n",
       "364  26.6          8  350.0  105.0  3725.0   19.0     81.0       1   \n",
       "308  33.5          4  151.0   90.0  2556.0   13.2     79.0       1   \n",
       "\n",
       "                   carname  \n",
       "298      cadillac eldorado  \n",
       "226          buick skylark  \n",
       "122              saab 99le  \n",
       "364  oldsmobile cutlass ls  \n",
       "308        pontiac phoenix  "
      ]
     },
     "execution_count": 16,
     "metadata": {},
     "output_type": "execute_result"
    }
   ],
   "source": [
    "autompg_train.head()"
   ]
  },
  {
   "cell_type": "code",
   "execution_count": 17,
   "metadata": {},
   "outputs": [],
   "source": [
    "y = autompg_train['mpg']\n",
    "autompg_train.drop('mpg', axis = 1, inplace = True)"
   ]
  },
  {
   "cell_type": "code",
   "execution_count": 18,
   "metadata": {},
   "outputs": [],
   "source": [
    "from sklearn.base import BaseEstimator, TransformerMixin\n",
    "\n",
    "class ArrayTransformer(BaseEstimator, TransformerMixin):\n",
    "    def fit(self, X, y = None):\n",
    "        return self\n",
    "\n",
    "    def transform(self, X, y = None):\n",
    "        return X.toarray()\n",
    "    \n",
    "class ToSeries(BaseEstimator, TransformerMixin):\n",
    "    def fit(self, X, y = None):\n",
    "        return self\n",
    "    \n",
    "    def transform(self, X, y = None):\n",
    "        return X.squeeze()"
   ]
  },
  {
   "cell_type": "code",
   "execution_count": 19,
   "metadata": {},
   "outputs": [],
   "source": [
    "from sklearn.pipeline import Pipeline\n",
    "from sklearn.preprocessing import MinMaxScaler\n",
    "from sklearn.preprocessing import LabelEncoder, OneHotEncoder\n",
    "from sklearn.feature_extraction.text import TfidfVectorizer\n",
    "\n",
    "num_pipeline = Pipeline([\n",
    "    ('scaler', MinMaxScaler())\n",
    "])\n",
    "\n",
    "cat_pipeline = Pipeline([\n",
    "    ('ohe', OneHotEncoder(categories = 'auto'))\n",
    "])\n",
    "\n",
    "text_pipeline = Pipeline([\n",
    "    ('toseries', ToSeries()),\n",
    "    ('tfv', TfidfVectorizer(max_features = 20)),\n",
    "    ('toarray', ArrayTransformer())\n",
    "])\n"
   ]
  },
  {
   "cell_type": "code",
   "execution_count": 20,
   "metadata": {},
   "outputs": [],
   "source": [
    "from sklearn.compose import ColumnTransformer\n",
    "\n",
    "cat_attribs = ['origin']\n",
    "text_attribs = ['carname']\n",
    "num_attribs = ['cylinders', 'disp', 'hp', 'weight', 'accel', 'modelyr']\n",
    "\n",
    "full_pipeline = ColumnTransformer([\n",
    "    ('num', num_pipeline, num_attribs),\n",
    "    ('cat', cat_pipeline, cat_attribs),\n",
    "    ('text', text_pipeline, text_attribs)\n",
    "])\n",
    "\n",
    "autompg_full_tr = full_pipeline.fit_transform(autompg_train)"
   ]
  },
  {
   "cell_type": "code",
   "execution_count": 88,
   "metadata": {
    "scrolled": true
   },
   "outputs": [],
   "source": [
    "cat_np = cat_pipeline.fit_transform(autompg_train[cat_attribs]).toarray()\n",
    "columns = ['American', 'European', 'Japanese']\n",
    "cat_df = pd.DataFrame(cat_np, columns = columns)\n",
    "\n",
    "num_np = num_pipeline.fit_transform(autompg_train[num_attribs])\n",
    "num_df = pd.DataFrame(num_np, columns = num_attribs)\n",
    "\n",
    "text_np = text_pipeline.fit_transform(autompg_train[text_attribs])\n",
    "\n",
    "columns = []\n",
    "idx_colname_dict = {\n",
    "    value : key for key, value in text_pipeline['tfv'].vocabulary_.items()}\n",
    "\n",
    "for i in range(20):\n",
    "    columns.append(idx_colname_dict[i])\n",
    "\n",
    "text_df = pd.DataFrame(text_np, columns = columns) \n",
    "\n",
    "autompg_full_df = pd.concat([num_df, cat_df, text_df], axis = 1, sort = False)\n",
    "columns = autompg_full_df.columns"
   ]
  },
  {
   "cell_type": "code",
   "execution_count": 75,
   "metadata": {
    "scrolled": false
   },
   "outputs": [
    {
     "data": {
      "text/html": [
       "<div>\n",
       "<style scoped>\n",
       "    .dataframe tbody tr th:only-of-type {\n",
       "        vertical-align: middle;\n",
       "    }\n",
       "\n",
       "    .dataframe tbody tr th {\n",
       "        vertical-align: top;\n",
       "    }\n",
       "\n",
       "    .dataframe thead th {\n",
       "        text-align: right;\n",
       "    }\n",
       "</style>\n",
       "<table border=\"1\" class=\"dataframe\">\n",
       "  <thead>\n",
       "    <tr style=\"text-align: right;\">\n",
       "      <th></th>\n",
       "      <th>cylinders</th>\n",
       "      <th>disp</th>\n",
       "      <th>hp</th>\n",
       "      <th>weight</th>\n",
       "      <th>accel</th>\n",
       "      <th>modelyr</th>\n",
       "      <th>American</th>\n",
       "      <th>European</th>\n",
       "      <th>Japanese</th>\n",
       "      <th>amc</th>\n",
       "      <th>...</th>\n",
       "      <th>honda</th>\n",
       "      <th>mazda</th>\n",
       "      <th>mercury</th>\n",
       "      <th>oldsmobile</th>\n",
       "      <th>peugeot</th>\n",
       "      <th>plymouth</th>\n",
       "      <th>pontiac</th>\n",
       "      <th>sw</th>\n",
       "      <th>toyota</th>\n",
       "      <th>volkswagen</th>\n",
       "    </tr>\n",
       "  </thead>\n",
       "  <tbody>\n",
       "    <tr>\n",
       "      <td>0</td>\n",
       "      <td>1.0</td>\n",
       "      <td>0.728682</td>\n",
       "      <td>0.429348</td>\n",
       "      <td>0.675827</td>\n",
       "      <td>0.559524</td>\n",
       "      <td>0.750000</td>\n",
       "      <td>1.0</td>\n",
       "      <td>0.0</td>\n",
       "      <td>0.0</td>\n",
       "      <td>0.0</td>\n",
       "      <td>...</td>\n",
       "      <td>0.0</td>\n",
       "      <td>0.0</td>\n",
       "      <td>0.0</td>\n",
       "      <td>0.0</td>\n",
       "      <td>0.0</td>\n",
       "      <td>0.0</td>\n",
       "      <td>0.0</td>\n",
       "      <td>0.0</td>\n",
       "      <td>0.0</td>\n",
       "      <td>0.0</td>\n",
       "    </tr>\n",
       "    <tr>\n",
       "      <td>1</td>\n",
       "      <td>0.6</td>\n",
       "      <td>0.421189</td>\n",
       "      <td>0.320652</td>\n",
       "      <td>0.535461</td>\n",
       "      <td>0.529762</td>\n",
       "      <td>0.583333</td>\n",
       "      <td>1.0</td>\n",
       "      <td>0.0</td>\n",
       "      <td>0.0</td>\n",
       "      <td>0.0</td>\n",
       "      <td>...</td>\n",
       "      <td>0.0</td>\n",
       "      <td>0.0</td>\n",
       "      <td>0.0</td>\n",
       "      <td>0.0</td>\n",
       "      <td>0.0</td>\n",
       "      <td>0.0</td>\n",
       "      <td>0.0</td>\n",
       "      <td>0.0</td>\n",
       "      <td>0.0</td>\n",
       "      <td>0.0</td>\n",
       "    </tr>\n",
       "    <tr>\n",
       "      <td>2</td>\n",
       "      <td>0.2</td>\n",
       "      <td>0.136951</td>\n",
       "      <td>0.347826</td>\n",
       "      <td>0.309397</td>\n",
       "      <td>0.357143</td>\n",
       "      <td>0.250000</td>\n",
       "      <td>0.0</td>\n",
       "      <td>1.0</td>\n",
       "      <td>0.0</td>\n",
       "      <td>0.0</td>\n",
       "      <td>...</td>\n",
       "      <td>0.0</td>\n",
       "      <td>0.0</td>\n",
       "      <td>0.0</td>\n",
       "      <td>0.0</td>\n",
       "      <td>0.0</td>\n",
       "      <td>0.0</td>\n",
       "      <td>0.0</td>\n",
       "      <td>0.0</td>\n",
       "      <td>0.0</td>\n",
       "      <td>0.0</td>\n",
       "    </tr>\n",
       "    <tr>\n",
       "      <td>3</td>\n",
       "      <td>1.0</td>\n",
       "      <td>0.728682</td>\n",
       "      <td>0.320652</td>\n",
       "      <td>0.624113</td>\n",
       "      <td>0.654762</td>\n",
       "      <td>0.916667</td>\n",
       "      <td>1.0</td>\n",
       "      <td>0.0</td>\n",
       "      <td>0.0</td>\n",
       "      <td>0.0</td>\n",
       "      <td>...</td>\n",
       "      <td>0.0</td>\n",
       "      <td>0.0</td>\n",
       "      <td>0.0</td>\n",
       "      <td>1.0</td>\n",
       "      <td>0.0</td>\n",
       "      <td>0.0</td>\n",
       "      <td>0.0</td>\n",
       "      <td>0.0</td>\n",
       "      <td>0.0</td>\n",
       "      <td>0.0</td>\n",
       "    </tr>\n",
       "    <tr>\n",
       "      <td>4</td>\n",
       "      <td>0.2</td>\n",
       "      <td>0.214470</td>\n",
       "      <td>0.239130</td>\n",
       "      <td>0.278664</td>\n",
       "      <td>0.309524</td>\n",
       "      <td>0.750000</td>\n",
       "      <td>1.0</td>\n",
       "      <td>0.0</td>\n",
       "      <td>0.0</td>\n",
       "      <td>0.0</td>\n",
       "      <td>...</td>\n",
       "      <td>0.0</td>\n",
       "      <td>0.0</td>\n",
       "      <td>0.0</td>\n",
       "      <td>0.0</td>\n",
       "      <td>0.0</td>\n",
       "      <td>0.0</td>\n",
       "      <td>1.0</td>\n",
       "      <td>0.0</td>\n",
       "      <td>0.0</td>\n",
       "      <td>0.0</td>\n",
       "    </tr>\n",
       "    <tr>\n",
       "      <td>...</td>\n",
       "      <td>...</td>\n",
       "      <td>...</td>\n",
       "      <td>...</td>\n",
       "      <td>...</td>\n",
       "      <td>...</td>\n",
       "      <td>...</td>\n",
       "      <td>...</td>\n",
       "      <td>...</td>\n",
       "      <td>...</td>\n",
       "      <td>...</td>\n",
       "      <td>...</td>\n",
       "      <td>...</td>\n",
       "      <td>...</td>\n",
       "      <td>...</td>\n",
       "      <td>...</td>\n",
       "      <td>...</td>\n",
       "      <td>...</td>\n",
       "      <td>...</td>\n",
       "      <td>...</td>\n",
       "      <td>...</td>\n",
       "      <td>...</td>\n",
       "    </tr>\n",
       "    <tr>\n",
       "      <td>308</td>\n",
       "      <td>0.6</td>\n",
       "      <td>0.245478</td>\n",
       "      <td>0.472826</td>\n",
       "      <td>0.531028</td>\n",
       "      <td>0.464286</td>\n",
       "      <td>0.666667</td>\n",
       "      <td>0.0</td>\n",
       "      <td>1.0</td>\n",
       "      <td>0.0</td>\n",
       "      <td>0.0</td>\n",
       "      <td>...</td>\n",
       "      <td>0.0</td>\n",
       "      <td>0.0</td>\n",
       "      <td>0.0</td>\n",
       "      <td>0.0</td>\n",
       "      <td>1.0</td>\n",
       "      <td>0.0</td>\n",
       "      <td>0.0</td>\n",
       "      <td>0.0</td>\n",
       "      <td>0.0</td>\n",
       "      <td>0.0</td>\n",
       "    </tr>\n",
       "    <tr>\n",
       "      <td>309</td>\n",
       "      <td>0.6</td>\n",
       "      <td>0.470284</td>\n",
       "      <td>0.293478</td>\n",
       "      <td>0.509161</td>\n",
       "      <td>0.535714</td>\n",
       "      <td>0.333333</td>\n",
       "      <td>1.0</td>\n",
       "      <td>0.0</td>\n",
       "      <td>0.0</td>\n",
       "      <td>0.0</td>\n",
       "      <td>...</td>\n",
       "      <td>0.0</td>\n",
       "      <td>0.0</td>\n",
       "      <td>0.0</td>\n",
       "      <td>0.0</td>\n",
       "      <td>0.0</td>\n",
       "      <td>0.0</td>\n",
       "      <td>0.0</td>\n",
       "      <td>0.0</td>\n",
       "      <td>0.0</td>\n",
       "      <td>0.0</td>\n",
       "    </tr>\n",
       "    <tr>\n",
       "      <td>310</td>\n",
       "      <td>0.6</td>\n",
       "      <td>0.341085</td>\n",
       "      <td>0.211957</td>\n",
       "      <td>0.430556</td>\n",
       "      <td>0.517857</td>\n",
       "      <td>0.666667</td>\n",
       "      <td>1.0</td>\n",
       "      <td>0.0</td>\n",
       "      <td>0.0</td>\n",
       "      <td>0.0</td>\n",
       "      <td>...</td>\n",
       "      <td>0.0</td>\n",
       "      <td>0.0</td>\n",
       "      <td>1.0</td>\n",
       "      <td>0.0</td>\n",
       "      <td>0.0</td>\n",
       "      <td>0.0</td>\n",
       "      <td>0.0</td>\n",
       "      <td>0.0</td>\n",
       "      <td>0.0</td>\n",
       "      <td>0.0</td>\n",
       "    </tr>\n",
       "    <tr>\n",
       "      <td>311</td>\n",
       "      <td>0.6</td>\n",
       "      <td>0.470284</td>\n",
       "      <td>0.347826</td>\n",
       "      <td>0.563534</td>\n",
       "      <td>0.500000</td>\n",
       "      <td>0.583333</td>\n",
       "      <td>1.0</td>\n",
       "      <td>0.0</td>\n",
       "      <td>0.0</td>\n",
       "      <td>0.0</td>\n",
       "      <td>...</td>\n",
       "      <td>0.0</td>\n",
       "      <td>0.0</td>\n",
       "      <td>0.0</td>\n",
       "      <td>0.0</td>\n",
       "      <td>0.0</td>\n",
       "      <td>0.0</td>\n",
       "      <td>0.0</td>\n",
       "      <td>0.0</td>\n",
       "      <td>0.0</td>\n",
       "      <td>0.0</td>\n",
       "    </tr>\n",
       "    <tr>\n",
       "      <td>312</td>\n",
       "      <td>1.0</td>\n",
       "      <td>0.604651</td>\n",
       "      <td>0.505435</td>\n",
       "      <td>0.470449</td>\n",
       "      <td>0.190476</td>\n",
       "      <td>0.666667</td>\n",
       "      <td>1.0</td>\n",
       "      <td>0.0</td>\n",
       "      <td>0.0</td>\n",
       "      <td>0.0</td>\n",
       "      <td>...</td>\n",
       "      <td>0.0</td>\n",
       "      <td>0.0</td>\n",
       "      <td>0.0</td>\n",
       "      <td>0.0</td>\n",
       "      <td>0.0</td>\n",
       "      <td>0.0</td>\n",
       "      <td>0.0</td>\n",
       "      <td>0.0</td>\n",
       "      <td>0.0</td>\n",
       "      <td>0.0</td>\n",
       "    </tr>\n",
       "  </tbody>\n",
       "</table>\n",
       "<p>313 rows × 29 columns</p>\n",
       "</div>"
      ],
      "text/plain": [
       "     cylinders      disp        hp    weight     accel   modelyr  American  \\\n",
       "0          1.0  0.728682  0.429348  0.675827  0.559524  0.750000       1.0   \n",
       "1          0.6  0.421189  0.320652  0.535461  0.529762  0.583333       1.0   \n",
       "2          0.2  0.136951  0.347826  0.309397  0.357143  0.250000       0.0   \n",
       "3          1.0  0.728682  0.320652  0.624113  0.654762  0.916667       1.0   \n",
       "4          0.2  0.214470  0.239130  0.278664  0.309524  0.750000       1.0   \n",
       "..         ...       ...       ...       ...       ...       ...       ...   \n",
       "308        0.6  0.245478  0.472826  0.531028  0.464286  0.666667       0.0   \n",
       "309        0.6  0.470284  0.293478  0.509161  0.535714  0.333333       1.0   \n",
       "310        0.6  0.341085  0.211957  0.430556  0.517857  0.666667       1.0   \n",
       "311        0.6  0.470284  0.347826  0.563534  0.500000  0.583333       1.0   \n",
       "312        1.0  0.604651  0.505435  0.470449  0.190476  0.666667       1.0   \n",
       "\n",
       "     European  Japanese  amc  ...  honda  mazda  mercury  oldsmobile  peugeot  \\\n",
       "0         0.0       0.0  0.0  ...    0.0    0.0      0.0         0.0      0.0   \n",
       "1         0.0       0.0  0.0  ...    0.0    0.0      0.0         0.0      0.0   \n",
       "2         1.0       0.0  0.0  ...    0.0    0.0      0.0         0.0      0.0   \n",
       "3         0.0       0.0  0.0  ...    0.0    0.0      0.0         1.0      0.0   \n",
       "4         0.0       0.0  0.0  ...    0.0    0.0      0.0         0.0      0.0   \n",
       "..        ...       ...  ...  ...    ...    ...      ...         ...      ...   \n",
       "308       1.0       0.0  0.0  ...    0.0    0.0      0.0         0.0      1.0   \n",
       "309       0.0       0.0  0.0  ...    0.0    0.0      0.0         0.0      0.0   \n",
       "310       0.0       0.0  0.0  ...    0.0    0.0      1.0         0.0      0.0   \n",
       "311       0.0       0.0  0.0  ...    0.0    0.0      0.0         0.0      0.0   \n",
       "312       0.0       0.0  0.0  ...    0.0    0.0      0.0         0.0      0.0   \n",
       "\n",
       "     plymouth  pontiac   sw  toyota  volkswagen  \n",
       "0         0.0      0.0  0.0     0.0         0.0  \n",
       "1         0.0      0.0  0.0     0.0         0.0  \n",
       "2         0.0      0.0  0.0     0.0         0.0  \n",
       "3         0.0      0.0  0.0     0.0         0.0  \n",
       "4         0.0      1.0  0.0     0.0         0.0  \n",
       "..        ...      ...  ...     ...         ...  \n",
       "308       0.0      0.0  0.0     0.0         0.0  \n",
       "309       0.0      0.0  0.0     0.0         0.0  \n",
       "310       0.0      0.0  0.0     0.0         0.0  \n",
       "311       0.0      0.0  0.0     0.0         0.0  \n",
       "312       0.0      0.0  0.0     0.0         0.0  \n",
       "\n",
       "[313 rows x 29 columns]"
      ]
     },
     "execution_count": 75,
     "metadata": {},
     "output_type": "execute_result"
    }
   ],
   "source": [
    "autompg_full_df"
   ]
  },
  {
   "cell_type": "markdown",
   "metadata": {},
   "source": [
    "### Shortlisting models"
   ]
  },
  {
   "cell_type": "code",
   "execution_count": 195,
   "metadata": {},
   "outputs": [],
   "source": [
    "from sklearn. model_selection import cross_val_score\n",
    "\n",
    "from xgboost import XGBRegressor\n",
    "from sklearn.svm import SVR\n",
    "from sklearn.linear_model import Ridge, Lasso\n",
    "from sklearn.neighbors import KNeighborsRegressor\n",
    "from sklearn.ensemble import RandomForestRegressor, ExtraTreesRegressor"
   ]
  },
  {
   "cell_type": "code",
   "execution_count": 146,
   "metadata": {},
   "outputs": [
    {
     "name": "stdout",
     "output_type": "stream",
     "text": [
      "2.532383840433222\n"
     ]
    }
   ],
   "source": [
    "# Random Forests\n",
    "rf_reg = RandomForestRegressor(n_estimators = 10, random_state = 7)\n",
    "scores = cross_val_score(rf_reg, autompg_full_df, y, scoring = \"neg_mean_squared_error\", cv = 5)\n",
    "rf_mean_rmse = np.mean(np.sqrt(-scores))\n",
    "\n",
    "print(rf_mean_rmse) #shortlisted"
   ]
  },
  {
   "cell_type": "code",
   "execution_count": 147,
   "metadata": {},
   "outputs": [
    {
     "name": "stdout",
     "output_type": "stream",
     "text": [
      "2.56550112312961\n"
     ]
    }
   ],
   "source": [
    "# ExtraTreesRegressor\n",
    "et_reg = ExtraTreesRegressor(n_estimators = 10, random_state = 7)\n",
    "scores = cross_val_score(et_reg, autompg_full_df, y, scoring = \"neg_mean_squared_error\", cv = 5)\n",
    "et_mean_rmse = np.mean(np.sqrt(-scores))\n",
    "\n",
    "print(et_mean_rmse) #shortlisted"
   ]
  },
  {
   "cell_type": "code",
   "execution_count": 200,
   "metadata": {},
   "outputs": [
    {
     "name": "stdout",
     "output_type": "stream",
     "text": [
      "2.69600398969198\n"
     ]
    }
   ],
   "source": [
    "# xgboost\n",
    "xgb_reg = XGBRegressor(n_estimators = 10, random_state = 7)\n",
    "scores = cross_val_score(xgb_reg, autompg_full_df, y, scoring = \"neg_mean_squared_error\", cv = 5)\n",
    "xgb_mean_rmse = np.mean(np.sqrt(-scores))\n",
    "\n",
    "print(xgb_mean_rmse) #shortlisted"
   ]
  },
  {
   "cell_type": "code",
   "execution_count": 149,
   "metadata": {},
   "outputs": [
    {
     "name": "stdout",
     "output_type": "stream",
     "text": [
      "3.827141947457458\n"
     ]
    }
   ],
   "source": [
    "# SVR\n",
    "svr_reg = SVR(gamma = 'scale')\n",
    "scores = cross_val_score(svr_reg, autompg_full_df, y, scoring = \"neg_mean_squared_error\", cv = 5)\n",
    "svr_mean_rmse = np.mean(np.sqrt(-scores))\n",
    "\n",
    "print(svr_mean_rmse)"
   ]
  },
  {
   "cell_type": "code",
   "execution_count": 150,
   "metadata": {},
   "outputs": [
    {
     "name": "stdout",
     "output_type": "stream",
     "text": [
      "3.2272845562092316\n"
     ]
    }
   ],
   "source": [
    "# Ridge\n",
    "ridge_reg = Ridge(alpha = 0.001)\n",
    "scores = cross_val_score(ridge_reg, autompg_full_df, y, scoring = \"neg_mean_squared_error\", cv = 5)\n",
    "ridge_mean_rmse = np.mean(np.sqrt(-scores))\n",
    "\n",
    "print(ridge_mean_rmse)"
   ]
  },
  {
   "cell_type": "code",
   "execution_count": 151,
   "metadata": {},
   "outputs": [
    {
     "name": "stdout",
     "output_type": "stream",
     "text": [
      "3.244445958763886\n"
     ]
    }
   ],
   "source": [
    "# Lasso\n",
    "lasso_reg = Lasso(alpha = 0.05)\n",
    "scores = cross_val_score(lasso_reg, autompg_full_df, y, scoring = \"neg_mean_squared_error\", cv = 5)\n",
    "lasso_mean_rmse = np.mean(np.sqrt(-scores))\n",
    "\n",
    "print(lasso_mean_rmse)"
   ]
  },
  {
   "cell_type": "code",
   "execution_count": 152,
   "metadata": {},
   "outputs": [
    {
     "name": "stdout",
     "output_type": "stream",
     "text": [
      "4.0481375269734965\n"
     ]
    }
   ],
   "source": [
    "# KNeighborsRegressor\n",
    "knn_reg = KNeighborsRegressor(n_neighbors = 7)\n",
    "scores = cross_val_score(knn_reg, autompg_full_df, y, scoring = \"neg_mean_squared_error\", cv = 5)\n",
    "knn_mean_rmse = np.mean(np.sqrt(-scores))\n",
    "\n",
    "print(knn_mean_rmse)"
   ]
  },
  {
   "cell_type": "code",
   "execution_count": 153,
   "metadata": {},
   "outputs": [
    {
     "data": {
      "text/plain": [
       "RandomForestRegressor(bootstrap=True, criterion='mse', max_depth=None,\n",
       "                      max_features='auto', max_leaf_nodes=None,\n",
       "                      min_impurity_decrease=0.0, min_impurity_split=None,\n",
       "                      min_samples_leaf=1, min_samples_split=2,\n",
       "                      min_weight_fraction_leaf=0.0, n_estimators=10,\n",
       "                      n_jobs=None, oob_score=False, random_state=7, verbose=0,\n",
       "                      warm_start=False)"
      ]
     },
     "execution_count": 153,
     "metadata": {},
     "output_type": "execute_result"
    }
   ],
   "source": [
    "rf_reg.fit(autompg_full_df, y)"
   ]
  },
  {
   "cell_type": "code",
   "execution_count": 154,
   "metadata": {},
   "outputs": [
    {
     "data": {
      "text/plain": [
       "array([1.32333779e-01, 2.60901925e-01, 9.62767619e-02, 3.55421796e-01,\n",
       "       2.45910260e-02, 1.10321277e-01, 1.41827574e-03, 2.21370756e-03,\n",
       "       3.99334515e-03, 1.03492867e-04, 1.06628992e-04, 2.49032529e-04,\n",
       "       1.37283539e-03, 2.11988482e-04, 4.72824662e-04, 1.58966393e-03,\n",
       "       6.67311124e-04, 5.57265922e-04, 8.17273645e-04, 6.07453690e-04,\n",
       "       1.37191325e-03, 5.96087134e-04, 7.13842892e-04, 1.17361788e-04,\n",
       "       2.92316973e-04, 6.32556752e-04, 3.29056022e-04, 4.27756680e-04,\n",
       "       1.29144329e-03])"
      ]
     },
     "execution_count": 154,
     "metadata": {},
     "output_type": "execute_result"
    }
   ],
   "source": [
    "rf_reg.feature_importances_"
   ]
  },
  {
   "cell_type": "code",
   "execution_count": 155,
   "metadata": {},
   "outputs": [
    {
     "name": "stdout",
     "output_type": "stream",
     "text": [
      "['weight', 'disp', 'cylinders', 'modelyr', 'hp', 'accel', 'Japanese', 'European', 'datsun', 'American', 'chevrolet', 'mazda', 'volkswagen', 'ford', 'oldsmobile', 'dodge', 'pontiac', 'honda', 'mercury', 'fiat', 'custom', 'toyota', 'sw', 'plymouth', 'buick', 'corolla', 'peugeot', 'brougham', 'amc']\n"
     ]
    }
   ],
   "source": [
    "ranked_features = [columns[idx] for idx in np.argsort(rf_reg.feature_importances_)]\n",
    "ranked_features.reverse()\n",
    "print(ranked_features)"
   ]
  },
  {
   "cell_type": "markdown",
   "metadata": {},
   "source": [
    "### Grid search on shortlisted algorithms"
   ]
  },
  {
   "cell_type": "code",
   "execution_count": 198,
   "metadata": {},
   "outputs": [
    {
     "name": "stderr",
     "output_type": "stream",
     "text": [
      "C:\\Users\\user\\Anaconda3\\lib\\site-packages\\sklearn\\model_selection\\_search.py:814: DeprecationWarning: The default of the `iid` parameter will change from True to False in version 0.22 and will be removed in 0.24. This will change numeric results when test-set sizes are unequal.\n",
      "  DeprecationWarning)\n"
     ]
    },
    {
     "name": "stdout",
     "output_type": "stream",
     "text": [
      "RandomForestRegressor(bootstrap=True, criterion='mse', max_depth=100,\n",
      "                      max_features='auto', max_leaf_nodes=None,\n",
      "                      min_impurity_decrease=0.0, min_impurity_split=None,\n",
      "                      min_samples_leaf=1, min_samples_split=2,\n",
      "                      min_weight_fraction_leaf=0.0, n_estimators=1000,\n",
      "                      n_jobs=None, oob_score=False, random_state=7, verbose=0,\n",
      "                      warm_start=False)\n",
      "6.0287524506389545\n"
     ]
    }
   ],
   "source": [
    "from sklearn.dummy import DummyRegressor\n",
    "from sklearn.model_selection import RandomizedSearchCV, GridSearchCV\n",
    "rf_pipeline = Pipeline([('rf', DummyRegressor())]) # placeholder estimator\n",
    "param_grid = {\n",
    "        'rf': [RandomForestRegressor(random_state = 7)],\n",
    "        'rf__n_estimators': [10, 100, 1000],\n",
    "        'rf__max_depth': [10, 100],\n",
    "        'rf__min_samples_split': [2, 5, 10],\n",
    "        'rf__min_samples_leaf': [1, 2, 4],\n",
    "}\n",
    "\n",
    "search = RandomizedSearchCV(rf_pipeline, param_grid, cv = 5, verbose = 0, n_jobs = -1, \n",
    "                            random_state = 7, n_iter = 20, scoring = 'neg_mean_squared_error')\n",
    "# search = GridSearchCV(rf_pipeline, param_grid, cv = 5, verbose = 0, n_jobs = -1, scoring = 'neg_mean_squared_error')\n",
    "\n",
    "best_rf_reg = search.fit(autompg_full_df, y).best_estimator_[0]\n",
    "print(best_rf_reg)\n",
    "print(- search.best_score_)"
   ]
  },
  {
   "cell_type": "code",
   "execution_count": 203,
   "metadata": {},
   "outputs": [
    {
     "name": "stdout",
     "output_type": "stream",
     "text": [
      "ExtraTreesRegressor(bootstrap=False, criterion='mse', max_depth=100,\n",
      "                    max_features='auto', max_leaf_nodes=None,\n",
      "                    min_impurity_decrease=0.0, min_impurity_split=None,\n",
      "                    min_samples_leaf=2, min_samples_split=5,\n",
      "                    min_weight_fraction_leaf=0.0, n_estimators=100, n_jobs=None,\n",
      "                    oob_score=False, random_state=7, verbose=0,\n",
      "                    warm_start=False)\n",
      "5.943353362557615\n"
     ]
    },
    {
     "name": "stderr",
     "output_type": "stream",
     "text": [
      "C:\\Users\\user\\Anaconda3\\lib\\site-packages\\sklearn\\model_selection\\_search.py:814: DeprecationWarning: The default of the `iid` parameter will change from True to False in version 0.22 and will be removed in 0.24. This will change numeric results when test-set sizes are unequal.\n",
      "  DeprecationWarning)\n"
     ]
    }
   ],
   "source": [
    "et_pipeline = Pipeline([('et', DummyRegressor())]) # placeholder estimator\n",
    "param_grid = {\n",
    "        'et': [ExtraTreesRegressor(random_state = 7)],\n",
    "        'et__n_estimators': [10, 100, 1000],\n",
    "        'et__max_depth': [10, 100],\n",
    "        'et__min_samples_split': [2, 5, 10],\n",
    "        'et__min_samples_leaf': [1, 2, 4],\n",
    "}\n",
    "\n",
    "search = RandomizedSearchCV(et_pipeline, param_grid, cv = 5, verbose = 0, n_jobs = -1, \n",
    "                            random_state = 7, n_iter = 20, scoring = 'neg_mean_squared_error')\n",
    "# search = GridSearchCV(et_pipeline, param_grid, cv = 5, verbose = 0, n_jobs = -1, scoring = 'neg_mean_squared_error')\n",
    "\n",
    "best_et_reg = search.fit(autompg_full_df, y).best_estimator_[0]\n",
    "print(best_et_reg)\n",
    "print(- search.best_score_)"
   ]
  },
  {
   "cell_type": "code",
   "execution_count": 209,
   "metadata": {},
   "outputs": [
    {
     "name": "stdout",
     "output_type": "stream",
     "text": [
      "XGBRegressor(base_score=0.5, booster=None, colsample_bylevel=1,\n",
      "             colsample_bynode=1, colsample_bytree=1, eta=0.1, gamma=0.7,\n",
      "             gpu_id=-1, importance_type='gain', interaction_constraints=None,\n",
      "             learning_rate=0.100000001, max_delta_step=0, max_depth=2,\n",
      "             min_child_weight=1, missing=nan, monotone_constraints=None,\n",
      "             n_estimators=100, n_jobs=0, num_parallel_tree=1,\n",
      "             objective='reg:squarederror', random_state=7, reg_alpha=0,\n",
      "             reg_lambda=1, scale_pos_weight=1, subsample=1, tree_method=None,\n",
      "             validate_parameters=False, verbosity=None)\n",
      "5.94321489533708\n"
     ]
    },
    {
     "name": "stderr",
     "output_type": "stream",
     "text": [
      "C:\\Users\\user\\Anaconda3\\lib\\site-packages\\sklearn\\model_selection\\_search.py:814: DeprecationWarning: The default of the `iid` parameter will change from True to False in version 0.22 and will be removed in 0.24. This will change numeric results when test-set sizes are unequal.\n",
      "  DeprecationWarning)\n"
     ]
    }
   ],
   "source": [
    "xgb_pipeline = Pipeline([('xgb', DummyRegressor())]) # placeholder estimator\n",
    "param_grid = {\n",
    "        'xgb': [XGBRegressor(random_state = 7)],\n",
    "        'xgb__eta': [0.01, 0.015, 0.025, 0.05, 0.1],\n",
    "        'xgb__gamma': [0.05, 0.1, 0.3, 0.5, 0.7, 1],\n",
    "        'xgb__max_depth': [2, 5, 10, 20],\n",
    "}\n",
    "\n",
    "search = RandomizedSearchCV(xgb_pipeline, param_grid, cv = 5, verbose = 0, n_jobs = -1, \n",
    "                            random_state = 7, n_iter = 20, scoring = 'neg_mean_squared_error')\n",
    "# search = GridSearchCV(xgb_pipeline, param_grid, cv = 5, verbose = 0, n_jobs = -1, scoring = 'neg_mean_squared_error')\n",
    "\n",
    "best_xgb_reg = search.fit(autompg_full_df, y).best_estimator_[0]\n",
    "print(best_xgb_reg)\n",
    "print(- search.best_score_)"
   ]
  },
  {
   "cell_type": "code",
   "execution_count": null,
   "metadata": {},
   "outputs": [],
   "source": []
  }
 ],
 "metadata": {
  "kernelspec": {
   "display_name": "Python 3",
   "language": "python",
   "name": "python3"
  },
  "language_info": {
   "codemirror_mode": {
    "name": "ipython",
    "version": 3
   },
   "file_extension": ".py",
   "mimetype": "text/x-python",
   "name": "python",
   "nbconvert_exporter": "python",
   "pygments_lexer": "ipython3",
   "version": "3.7.3"
  },
  "toc": {
   "base_numbering": 1,
   "nav_menu": {},
   "number_sections": true,
   "sideBar": true,
   "skip_h1_title": false,
   "title_cell": "Table of Contents",
   "title_sidebar": "Contents",
   "toc_cell": false,
   "toc_position": {},
   "toc_section_display": true,
   "toc_window_display": false
  },
  "varInspector": {
   "cols": {
    "lenName": 16,
    "lenType": 16,
    "lenVar": 40
   },
   "kernels_config": {
    "python": {
     "delete_cmd_postfix": "",
     "delete_cmd_prefix": "del ",
     "library": "var_list.py",
     "varRefreshCmd": "print(var_dic_list())"
    },
    "r": {
     "delete_cmd_postfix": ") ",
     "delete_cmd_prefix": "rm(",
     "library": "var_list.r",
     "varRefreshCmd": "cat(var_dic_list()) "
    }
   },
   "types_to_exclude": [
    "module",
    "function",
    "builtin_function_or_method",
    "instance",
    "_Feature"
   ],
   "window_display": false
  }
 },
 "nbformat": 4,
 "nbformat_minor": 2
}
